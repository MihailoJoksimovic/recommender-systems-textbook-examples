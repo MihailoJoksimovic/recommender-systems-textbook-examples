{
 "cells": [
  {
   "cell_type": "markdown",
   "metadata": {},
   "source": [
    "# Chapter 3.4 - Naive Bayes Collaborative Filtering"
   ]
  },
  {
   "cell_type": "markdown",
   "metadata": {},
   "source": [
    "The code below is my attempt at coding a Recommender system using the Naive Bayes formula and its variation \n",
    "for Colalborative filtering. The code follows the Chapter 3.4 in the Book.\n",
    "\n",
    "Do note that this is a SAMPLE code and is under no way optimized for PRODUCTION use. Feel free to use it for educational purposes."
   ]
  },
  {
   "cell_type": "code",
   "execution_count": 2,
   "metadata": {},
   "outputs": [],
   "source": [
    "import numpy as np\n",
    "import pandas as pd\n",
    "from math import sqrt\n",
    "import operator"
   ]
  },
  {
   "cell_type": "markdown",
   "metadata": {},
   "source": [
    "We're going to recreate the input data, the same way it was presented in the Book (page 85, Table 3.2)"
   ]
  },
  {
   "cell_type": "code",
   "execution_count": 3,
   "metadata": {},
   "outputs": [
    {
     "data": {
      "text/html": [
       "<div>\n",
       "<style scoped>\n",
       "    .dataframe tbody tr th:only-of-type {\n",
       "        vertical-align: middle;\n",
       "    }\n",
       "\n",
       "    .dataframe tbody tr th {\n",
       "        vertical-align: top;\n",
       "    }\n",
       "\n",
       "    .dataframe thead th {\n",
       "        text-align: right;\n",
       "    }\n",
       "</style>\n",
       "<table border=\"1\" class=\"dataframe\">\n",
       "  <thead>\n",
       "    <tr style=\"text-align: right;\">\n",
       "      <th></th>\n",
       "      <th>1</th>\n",
       "      <th>2</th>\n",
       "      <th>3</th>\n",
       "      <th>4</th>\n",
       "      <th>5</th>\n",
       "      <th>6</th>\n",
       "    </tr>\n",
       "  </thead>\n",
       "  <tbody>\n",
       "    <tr>\n",
       "      <th>1</th>\n",
       "      <td>1.0</td>\n",
       "      <td>-1.0</td>\n",
       "      <td>1.0</td>\n",
       "      <td>-1</td>\n",
       "      <td>1</td>\n",
       "      <td>-1.0</td>\n",
       "    </tr>\n",
       "    <tr>\n",
       "      <th>2</th>\n",
       "      <td>1.0</td>\n",
       "      <td>1.0</td>\n",
       "      <td>NaN</td>\n",
       "      <td>-1</td>\n",
       "      <td>-1</td>\n",
       "      <td>-1.0</td>\n",
       "    </tr>\n",
       "    <tr>\n",
       "      <th>3</th>\n",
       "      <td>NaN</td>\n",
       "      <td>1.0</td>\n",
       "      <td>1.0</td>\n",
       "      <td>-1</td>\n",
       "      <td>-1</td>\n",
       "      <td>NaN</td>\n",
       "    </tr>\n",
       "    <tr>\n",
       "      <th>4</th>\n",
       "      <td>-1.0</td>\n",
       "      <td>-1.0</td>\n",
       "      <td>-1.0</td>\n",
       "      <td>1</td>\n",
       "      <td>1</td>\n",
       "      <td>1.0</td>\n",
       "    </tr>\n",
       "    <tr>\n",
       "      <th>5</th>\n",
       "      <td>-1.0</td>\n",
       "      <td>NaN</td>\n",
       "      <td>-1.0</td>\n",
       "      <td>1</td>\n",
       "      <td>1</td>\n",
       "      <td>1.0</td>\n",
       "    </tr>\n",
       "  </tbody>\n",
       "</table>\n",
       "</div>"
      ],
      "text/plain": [
       "     1    2    3  4  5    6\n",
       "1  1.0 -1.0  1.0 -1  1 -1.0\n",
       "2  1.0  1.0  NaN -1 -1 -1.0\n",
       "3  NaN  1.0  1.0 -1 -1  NaN\n",
       "4 -1.0 -1.0 -1.0  1  1  1.0\n",
       "5 -1.0  NaN -1.0  1  1  1.0"
      ]
     },
     "execution_count": 3,
     "metadata": {},
     "output_type": "execute_result"
    }
   ],
   "source": [
    "data = [\n",
    "    [1, -1, 1, -1, 1, -1],\n",
    "    [1, 1, np.NAN, -1, -1, -1],\n",
    "    [np.NAN, 1, 1, -1, -1, np.NAN],\n",
    "    [-1, -1, -1, 1, 1, 1],\n",
    "    [-1, np.NAN, -1, 1, 1, 1]\n",
    "]\n",
    "\n",
    "df = pd.DataFrame(data, columns=range(1, 7), index=range(1,6))\n",
    "df"
   ]
  },
  {
   "cell_type": "code",
   "execution_count": 17,
   "metadata": {},
   "outputs": [],
   "source": [
    "def get_probability_of_rating_for_given_movie(j, v):\n",
    "    '''\n",
    "    Returns probability of movie J being rated with specified rating V\n",
    "    \n",
    "    According to book, P(r_uj = v) is called prior probability and is\n",
    "    is estimated to the fraction of the users that have specified the \n",
    "    rating v for the jth item (page 82 in the book).\n",
    "    '''\n",
    "\n",
    "    return len(df[df[j] == v]) / len(df[j].dropna())\n",
    "\n",
    "def get_probability_of_movie_rating_considering_others(j, j_val, k, k_val):\n",
    "    # Users to consider is list of users who rated movie J with J_val\n",
    "    # and who have also rated movie K\n",
    "    users_to_consider = (df[j] == j_val) & (pd.notna(df[k]))\n",
    "    \n",
    "    # Users to consider is fraction of above calculated number of users\n",
    "    # who have ALSO rated the given movie with specified value\n",
    "    users_who_rated_the_same = df.loc[users_to_consider][k] == k_val\n",
    "    \n",
    "    # This is the final calculation\n",
    "    return len(users_who_rated_the_same[users_who_rated_the_same]) / len(users_to_consider[users_to_consider])\n",
    "\n",
    "def predict_probability_of_rating(u, j, v):\n",
    "    '''Predict probability of user \"u\" rating movie \"j\" with rating \"v\" '''\n",
    "    \n",
    "    # First we need list of all movies rated by this user I_u\n",
    "    I_u = df.loc[u].dropna().index.values # Array of movie indexes rated by user \"u\"\n",
    "    \n",
    "    # s are the allowed values that rating can take; in our case - that is either 1 or -1\n",
    "    s = [1, -1]\n",
    "    \n",
    "    probabilities = []\n",
    "    \n",
    "    # Get probability that this movie is rated with rating \"v\" at all\n",
    "        \n",
    "    print(\"Predicting probability of user {} rating movie {} with {} ...\".format(u, j, v))\n",
    "\n",
    "    p_j_v = get_probability_of_rating_for_given_movie(j, v)\n",
    "\n",
    "    print(\"\\tGeneral probability of movie {} being rated with {} is {}\".format(j, v, p_j_v))\n",
    "\n",
    "    # Calculate conditional probabilities now (i.e. ratings for all movies that user has rated\n",
    "    # taking into account the rating \"v\")\n",
    "\n",
    "    total_probability = 1\n",
    "\n",
    "    for movie_idx in I_u:\n",
    "        users_rating = df.loc[u][movie_idx]\n",
    "\n",
    "        conditional_proba = get_probability_of_movie_rating_considering_others(j, v, movie_idx, users_rating)\n",
    "\n",
    "        print(\"\\tConditional probability P(r{}{} = {}|r{}{} = {}) = {}\".format(u, movie_idx, users_rating, u,j, v, conditional_proba))\n",
    "\n",
    "        total_probability = total_probability * conditional_proba\n",
    "\n",
    "\n",
    "    r_u_j = p_j_v * total_probability\n",
    "    print(\"Probability of user {} rating movie {} with {} is {}\".format(u, j, v, r_u_j))\n",
    "\n",
    "\n",
    "    return r_u_j\n",
    "\n",
    "    # Now we need probability of movie J being rated with rating V\n",
    "    #p_u_jr = get_proba_of_movie_rating(j, v)\n",
    "    \n",
    "def predict_probability(u, j):\n",
    "    '''Predicts the user \"u\" rating of movie \"j\"'''\n",
    "    \n",
    "    possible_ratings = [-1, 1]\n",
    "    \n",
    "    probabilities = []\n",
    "    \n",
    "    for v in possible_ratings:\n",
    "        probabilities.append(predict_probability_of_rating(u, j, v))\n",
    "        \n",
    "    # Return the rating with highest likelihood\n",
    "    return probabilities.index(max(probabilities))"
   ]
  },
  {
   "cell_type": "code",
   "execution_count": 21,
   "metadata": {},
   "outputs": [
    {
     "name": "stdout",
     "output_type": "stream",
     "text": [
      "Predicting probability of user 3 rating movie 1 with -1 ...\n",
      "\tGeneral probability of movie 1 being rated with -1 is 0.5\n",
      "\tConditional probability P(r32 = 1.0|r31 = -1) = 0.0\n",
      "\tConditional probability P(r33 = 1.0|r31 = -1) = 0.0\n",
      "\tConditional probability P(r34 = -1.0|r31 = -1) = 0.0\n",
      "\tConditional probability P(r35 = -1.0|r31 = -1) = 0.0\n",
      "Probability of user 3 rating movie 1 with -1 is 0.0\n",
      "Predicting probability of user 3 rating movie 1 with 1 ...\n",
      "\tGeneral probability of movie 1 being rated with 1 is 0.5\n",
      "\tConditional probability P(r32 = 1.0|r31 = 1) = 0.5\n",
      "\tConditional probability P(r33 = 1.0|r31 = 1) = 1.0\n",
      "\tConditional probability P(r34 = -1.0|r31 = 1) = 1.0\n",
      "\tConditional probability P(r35 = -1.0|r31 = 1) = 0.5\n",
      "Probability of user 3 rating movie 1 with 1 is 0.125\n",
      "User 3 is most likely to rate movie 1 with 1\n"
     ]
    }
   ],
   "source": [
    "print(\"User 3 is most likely to rate movie 1 with {}\".format(predict_probability(3, 1)))"
   ]
  },
  {
   "cell_type": "code",
   "execution_count": null,
   "metadata": {},
   "outputs": [],
   "source": []
  }
 ],
 "metadata": {
  "kernelspec": {
   "display_name": "Python 3",
   "language": "python",
   "name": "python3"
  },
  "language_info": {
   "codemirror_mode": {
    "name": "ipython",
    "version": 3
   },
   "file_extension": ".py",
   "mimetype": "text/x-python",
   "name": "python",
   "nbconvert_exporter": "python",
   "pygments_lexer": "ipython3",
   "version": "3.6.8"
  }
 },
 "nbformat": 4,
 "nbformat_minor": 2
}
