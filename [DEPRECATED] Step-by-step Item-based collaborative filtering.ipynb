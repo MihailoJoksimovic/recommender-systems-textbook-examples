{
 "cells": [
  {
   "cell_type": "code",
   "execution_count": 228,
   "metadata": {},
   "outputs": [],
   "source": [
    "import numpy as np\n",
    "import pandas as pd\n",
    "import seaborn as sns\n",
    "import matplotlib.pyplot as plt\n",
    "from math import sqrt, ceil\n",
    "import math\n",
    "\n",
    "%matplotlib inline\n",
    "%config Completer.use_jedi = False"
   ]
  },
  {
   "cell_type": "markdown",
   "metadata": {},
   "source": [
    "In this notebook, we're going to do a quick evaluation of Item-based collabortive filtering techniques. \n",
    "\n",
    "The idea is to predict the rating for item based on ratings for similar items."
   ]
  },
  {
   "cell_type": "code",
   "execution_count": 229,
   "metadata": {},
   "outputs": [],
   "source": [
    "movies = pd.read_csv(\"./movies.csv\")\n",
    "ratings = pd.read_csv(\"./ratings.csv\", usecols=['userId', 'movieId', 'rating'])"
   ]
  },
  {
   "cell_type": "code",
   "execution_count": 230,
   "metadata": {},
   "outputs": [],
   "source": [
    "# Recreate the data from the book\n",
    "\n",
    "data = [\n",
    "    [1, 7, 6, 7, 4, 5, 4],\n",
    "    [2, 6, 7, np.NaN, 4, 3, 4],\n",
    "    [3, np.NaN, 3, 3, 1, 1, np.NaN],\n",
    "    [4, 1, 2, 2, 3, 3, 4],\n",
    "    [5, 1, np.NaN, 1, 2, 3, 3]\n",
    "]"
   ]
  },
  {
   "cell_type": "code",
   "execution_count": 231,
   "metadata": {},
   "outputs": [
    {
     "data": {
      "text/html": [
       "<div>\n",
       "<style scoped>\n",
       "    .dataframe tbody tr th:only-of-type {\n",
       "        vertical-align: middle;\n",
       "    }\n",
       "\n",
       "    .dataframe tbody tr th {\n",
       "        vertical-align: top;\n",
       "    }\n",
       "\n",
       "    .dataframe thead th {\n",
       "        text-align: right;\n",
       "    }\n",
       "</style>\n",
       "<table border=\"1\" class=\"dataframe\">\n",
       "  <thead>\n",
       "    <tr style=\"text-align: right;\">\n",
       "      <th></th>\n",
       "      <th>m_1</th>\n",
       "      <th>m_2</th>\n",
       "      <th>m_3</th>\n",
       "      <th>m_4</th>\n",
       "      <th>m_5</th>\n",
       "      <th>m_6</th>\n",
       "    </tr>\n",
       "    <tr>\n",
       "      <th>userId</th>\n",
       "      <th></th>\n",
       "      <th></th>\n",
       "      <th></th>\n",
       "      <th></th>\n",
       "      <th></th>\n",
       "      <th></th>\n",
       "    </tr>\n",
       "  </thead>\n",
       "  <tbody>\n",
       "    <tr>\n",
       "      <td>1</td>\n",
       "      <td>7.0</td>\n",
       "      <td>6.0</td>\n",
       "      <td>7.0</td>\n",
       "      <td>4</td>\n",
       "      <td>5</td>\n",
       "      <td>4.0</td>\n",
       "    </tr>\n",
       "    <tr>\n",
       "      <td>2</td>\n",
       "      <td>6.0</td>\n",
       "      <td>7.0</td>\n",
       "      <td>NaN</td>\n",
       "      <td>4</td>\n",
       "      <td>3</td>\n",
       "      <td>4.0</td>\n",
       "    </tr>\n",
       "    <tr>\n",
       "      <td>3</td>\n",
       "      <td>NaN</td>\n",
       "      <td>3.0</td>\n",
       "      <td>3.0</td>\n",
       "      <td>1</td>\n",
       "      <td>1</td>\n",
       "      <td>NaN</td>\n",
       "    </tr>\n",
       "    <tr>\n",
       "      <td>4</td>\n",
       "      <td>1.0</td>\n",
       "      <td>2.0</td>\n",
       "      <td>2.0</td>\n",
       "      <td>3</td>\n",
       "      <td>3</td>\n",
       "      <td>4.0</td>\n",
       "    </tr>\n",
       "    <tr>\n",
       "      <td>5</td>\n",
       "      <td>1.0</td>\n",
       "      <td>NaN</td>\n",
       "      <td>1.0</td>\n",
       "      <td>2</td>\n",
       "      <td>3</td>\n",
       "      <td>3.0</td>\n",
       "    </tr>\n",
       "  </tbody>\n",
       "</table>\n",
       "</div>"
      ],
      "text/plain": [
       "        m_1  m_2  m_3  m_4  m_5  m_6\n",
       "userId                              \n",
       "1       7.0  6.0  7.0    4    5  4.0\n",
       "2       6.0  7.0  NaN    4    3  4.0\n",
       "3       NaN  3.0  3.0    1    1  NaN\n",
       "4       1.0  2.0  2.0    3    3  4.0\n",
       "5       1.0  NaN  1.0    2    3  3.0"
      ]
     },
     "execution_count": 231,
     "metadata": {},
     "output_type": "execute_result"
    }
   ],
   "source": [
    "ratings = pd.DataFrame(data, columns=['userId', 'm_1', 'm_2', 'm_3', 'm_4', 'm_5', 'm_6'])\n",
    "ratings = ratings.set_index('userId')\n",
    "ratings"
   ]
  },
  {
   "cell_type": "code",
   "execution_count": 232,
   "metadata": {},
   "outputs": [
    {
     "data": {
      "text/plain": [
       "userId\n",
       "1    5.5\n",
       "2    4.8\n",
       "3    2.0\n",
       "4    2.5\n",
       "5    2.0\n",
       "dtype: float64"
      ]
     },
     "execution_count": 232,
     "metadata": {},
     "output_type": "execute_result"
    }
   ],
   "source": [
    "# First step is to normalize the ratings by subtracting the mean value\n",
    "\n",
    "users_mean_values = ratings.apply(lambda x: x.mean(), axis = 1)\n",
    "users_mean_values"
   ]
  },
  {
   "cell_type": "code",
   "execution_count": 233,
   "metadata": {},
   "outputs": [
    {
     "data": {
      "text/html": [
       "<div>\n",
       "<style scoped>\n",
       "    .dataframe tbody tr th:only-of-type {\n",
       "        vertical-align: middle;\n",
       "    }\n",
       "\n",
       "    .dataframe tbody tr th {\n",
       "        vertical-align: top;\n",
       "    }\n",
       "\n",
       "    .dataframe thead th {\n",
       "        text-align: right;\n",
       "    }\n",
       "</style>\n",
       "<table border=\"1\" class=\"dataframe\">\n",
       "  <thead>\n",
       "    <tr style=\"text-align: right;\">\n",
       "      <th></th>\n",
       "      <th>m_1</th>\n",
       "      <th>m_2</th>\n",
       "      <th>m_3</th>\n",
       "      <th>m_4</th>\n",
       "      <th>m_5</th>\n",
       "      <th>m_6</th>\n",
       "    </tr>\n",
       "    <tr>\n",
       "      <th>userId</th>\n",
       "      <th></th>\n",
       "      <th></th>\n",
       "      <th></th>\n",
       "      <th></th>\n",
       "      <th></th>\n",
       "      <th></th>\n",
       "    </tr>\n",
       "  </thead>\n",
       "  <tbody>\n",
       "    <tr>\n",
       "      <td>1</td>\n",
       "      <td>1.5</td>\n",
       "      <td>0.5</td>\n",
       "      <td>1.5</td>\n",
       "      <td>-1.5</td>\n",
       "      <td>-0.5</td>\n",
       "      <td>-1.5</td>\n",
       "    </tr>\n",
       "    <tr>\n",
       "      <td>2</td>\n",
       "      <td>1.2</td>\n",
       "      <td>2.2</td>\n",
       "      <td>NaN</td>\n",
       "      <td>-0.8</td>\n",
       "      <td>-1.8</td>\n",
       "      <td>-0.8</td>\n",
       "    </tr>\n",
       "    <tr>\n",
       "      <td>3</td>\n",
       "      <td>NaN</td>\n",
       "      <td>1.0</td>\n",
       "      <td>1.0</td>\n",
       "      <td>-1.0</td>\n",
       "      <td>-1.0</td>\n",
       "      <td>NaN</td>\n",
       "    </tr>\n",
       "    <tr>\n",
       "      <td>4</td>\n",
       "      <td>-1.5</td>\n",
       "      <td>-0.5</td>\n",
       "      <td>-0.5</td>\n",
       "      <td>0.5</td>\n",
       "      <td>0.5</td>\n",
       "      <td>1.5</td>\n",
       "    </tr>\n",
       "    <tr>\n",
       "      <td>5</td>\n",
       "      <td>-1.0</td>\n",
       "      <td>NaN</td>\n",
       "      <td>-1.0</td>\n",
       "      <td>0.0</td>\n",
       "      <td>1.0</td>\n",
       "      <td>1.0</td>\n",
       "    </tr>\n",
       "  </tbody>\n",
       "</table>\n",
       "</div>"
      ],
      "text/plain": [
       "        m_1  m_2  m_3  m_4  m_5  m_6\n",
       "userId                              \n",
       "1       1.5  0.5  1.5 -1.5 -0.5 -1.5\n",
       "2       1.2  2.2  NaN -0.8 -1.8 -0.8\n",
       "3       NaN  1.0  1.0 -1.0 -1.0  NaN\n",
       "4      -1.5 -0.5 -0.5  0.5  0.5  1.5\n",
       "5      -1.0  NaN -1.0  0.0  1.0  1.0"
      ]
     },
     "execution_count": 233,
     "metadata": {},
     "output_type": "execute_result"
    }
   ],
   "source": [
    "normalized_ratings = ratings.apply(lambda x: x - users_mean_values[x.name], axis=1)\n",
    "normalized_ratings"
   ]
  },
  {
   "cell_type": "code",
   "execution_count": 234,
   "metadata": {},
   "outputs": [
    {
     "data": {
      "text/plain": [
       "Int64Index([1, 2, 4, 5], dtype='int64', name='userId')"
      ]
     },
     "execution_count": 234,
     "metadata": {},
     "output_type": "execute_result"
    }
   ],
   "source": [
    "target_movie_i = 'm_1'\n",
    "\n",
    "target_movie_j = 'm_1'\n",
    "\n",
    "# Users who have rated the target_movie_i\n",
    "U_i = normalized_ratings[pd.notna(normalized_ratings[target_movie_i])][target_movie_i].index\n",
    "U_i\n",
    "#def calc_adjusted_cosine_similarity(movie_i, movie_j):\n",
    "    "
   ]
  },
  {
   "cell_type": "code",
   "execution_count": 235,
   "metadata": {},
   "outputs": [
    {
     "data": {
      "text/plain": [
       "Int64Index([1, 2, 4, 5], dtype='int64', name='userId')"
      ]
     },
     "execution_count": 235,
     "metadata": {},
     "output_type": "execute_result"
    }
   ],
   "source": [
    "# Users who have rated the target_movie_j\n",
    "U_j = normalized_ratings[pd.notna(normalized_ratings[target_movie_j])][target_movie_j].index\n",
    "U_j"
   ]
  },
  {
   "cell_type": "code",
   "execution_count": 236,
   "metadata": {},
   "outputs": [
    {
     "data": {
      "text/plain": [
       "Int64Index([1, 2, 4, 5], dtype='int64', name='userId')"
      ]
     },
     "execution_count": 236,
     "metadata": {},
     "output_type": "execute_result"
    }
   ],
   "source": [
    "# Users who rated both movies I and J\n",
    "U_ij = U_i & U_j\n",
    "U_ij"
   ]
  },
  {
   "cell_type": "code",
   "execution_count": 237,
   "metadata": {},
   "outputs": [
    {
     "data": {
      "text/plain": [
       "1.0"
      ]
     },
     "execution_count": 237,
     "metadata": {},
     "output_type": "execute_result"
    }
   ],
   "source": [
    "numerator = []\n",
    "denominator_i = []\n",
    "denominator_j = []\n",
    "\n",
    "for user_id in U_ij:\n",
    "    s_ui = normalized_ratings.loc[user_id][target_movie_i]\n",
    "    s_uj = normalized_ratings.loc[user_id][target_movie_j]\n",
    "    \n",
    "    numerator.append(s_ui * s_uj)\n",
    "    \n",
    "    denominator_i.append(pow(s_ui, 2))\n",
    "    denominator_j.append(pow(s_uj, 2))\n",
    "    \n",
    "sum(numerator) / (sqrt(sum(denominator_i)) * sqrt(sum(denominator_j)))"
   ]
  },
  {
   "cell_type": "code",
   "execution_count": 238,
   "metadata": {},
   "outputs": [],
   "source": [
    "def calc_adjusted_cosine_similarity(movie_i, movie_j):\n",
    "    '''Calculates the adjusted cosine similarity between movies I and J'''\n",
    "    # Users who have rated the target_movie_i\n",
    "    U_i = normalized_ratings[pd.notna(normalized_ratings[movie_i])][movie_i].index\n",
    "        \n",
    "    # Users who have rated the target_movie_j\n",
    "    U_j = normalized_ratings[pd.notna(normalized_ratings[movie_j])][movie_j].index\n",
    "        \n",
    "    # Users who rated both movies\n",
    "    \n",
    "    U_ij = U_i & U_j\n",
    "        \n",
    "    if len(U_ij) == 0:\n",
    "        # No users who rated both movies, apparently\n",
    "        return -5\n",
    "    \n",
    "    numerator = []\n",
    "    denominator_i = []\n",
    "    denominator_j = []\n",
    "    \n",
    "    for user_id in U_ij:\n",
    "        s_ui = normalized_ratings.loc[user_id][movie_i]\n",
    "        s_uj = normalized_ratings.loc[user_id][movie_j]\n",
    "\n",
    "        numerator.append(s_ui * s_uj)\n",
    "\n",
    "        denominator_i.append(pow(s_ui, 2))\n",
    "        denominator_j.append(pow(s_uj, 2))\n",
    "\n",
    "    return sum(numerator) / (sqrt(sum(denominator_i)) * sqrt(sum(denominator_j)))\n",
    "    "
   ]
  },
  {
   "cell_type": "code",
   "execution_count": 239,
   "metadata": {},
   "outputs": [
    {
     "data": {
      "text/plain": [
       "-0.812488103301994"
      ]
     },
     "execution_count": 239,
     "metadata": {},
     "output_type": "execute_result"
    }
   ],
   "source": [
    "calc_adjusted_cosine_similarity('m_1', 'm_5')"
   ]
  },
  {
   "cell_type": "code",
   "execution_count": 240,
   "metadata": {},
   "outputs": [],
   "source": [
    "movies_ids = ratings.columns.values"
   ]
  },
  {
   "cell_type": "code",
   "execution_count": 241,
   "metadata": {},
   "outputs": [],
   "source": [
    "import operator\n",
    "\n",
    "def get_movies_similar_to_target_movie(target_movie_id):\n",
    "    '''Returns list of movie IDs that are similar to target movie'''\n",
    "    \n",
    "    # Iterate through list of movies and find movies similar to it\n",
    "    \n",
    "    coefficients = {}\n",
    "    \n",
    "    for movie_id in movies_ids:\n",
    "        if movie_id == target_movie_id:\n",
    "            # Skip the target movie, as the similarity is 1 for sure\n",
    "            continue\n",
    "        \n",
    "        coeff = calc_adjusted_cosine_similarity(target_movie_id, movie_id)\n",
    "        \n",
    "        #print(\"Similarity between {} and {} is {}\".format(target_movie_id, movie_id, coeff))\n",
    "        \n",
    "        if coeff <= 0:\n",
    "            # Skip movies which aren't correlated\n",
    "            continue\n",
    "            \n",
    "        coefficients[movie_id] = coeff\n",
    "        \n",
    "    coefficients = sorted(coefficients.items(), key=operator.itemgetter(1), reverse=True)\n",
    "    \n",
    "    movie_indices = [i[0] for i in coefficients]\n",
    "    \n",
    "    return movie_indices"
   ]
  },
  {
   "cell_type": "code",
   "execution_count": 242,
   "metadata": {},
   "outputs": [
    {
     "data": {
      "text/plain": [
       "['m_3', 'm_2']"
      ]
     },
     "execution_count": 242,
     "metadata": {},
     "output_type": "execute_result"
    }
   ],
   "source": [
    "get_movies_similar_to_target_movie('m_1')"
   ]
  },
  {
   "cell_type": "code",
   "execution_count": 243,
   "metadata": {},
   "outputs": [],
   "source": [
    "# Represents similar movies for which the user has provided rating for\n",
    "\n",
    "target_user = 3\n",
    "target_movie = 'm_1'\n",
    "\n",
    "def predict_rating(target_user, target_movie):\n",
    "    '''Predicts rating of user for specified movie'''\n",
    "\n",
    "    # Movies similar to target movie\n",
    "    similar_movies_to_target_movie = get_movies_similar_to_target_movie(target_movie)\n",
    "\n",
    "    # Movies similar to target movie that were rated by target user \n",
    "    Qt_u = normalized_ratings.loc[target_user][similar_movies_to_target_movie].dropna().index.values\n",
    "\n",
    "    numerator = []\n",
    "    denominator = []\n",
    "\n",
    "    for j in Qt_u:\n",
    "        numerator.append(calc_adjusted_cosine_similarity(j, target_movie) * ratings.loc[target_user][j])\n",
    "        denominator.append(calc_adjusted_cosine_similarity(j, target_movie))\n",
    "\n",
    "    return sum(numerator) / sum(denominator)\n",
    "    "
   ]
  },
  {
   "cell_type": "code",
   "execution_count": 244,
   "metadata": {},
   "outputs": [
    {
     "data": {
      "text/plain": [
       "2.9999999999999996"
      ]
     },
     "execution_count": 244,
     "metadata": {},
     "output_type": "execute_result"
    }
   ],
   "source": [
    "predict_rating(3, 'm_1')"
   ]
  },
  {
   "cell_type": "code",
   "execution_count": 245,
   "metadata": {},
   "outputs": [
    {
     "data": {
      "text/plain": [
       "1.0"
      ]
     },
     "execution_count": 245,
     "metadata": {},
     "output_type": "execute_result"
    }
   ],
   "source": [
    "predict_rating(3, 'm_6')"
   ]
  },
  {
   "cell_type": "code",
   "execution_count": 248,
   "metadata": {},
   "outputs": [
    {
     "data": {
      "text/html": [
       "<div>\n",
       "<style scoped>\n",
       "    .dataframe tbody tr th:only-of-type {\n",
       "        vertical-align: middle;\n",
       "    }\n",
       "\n",
       "    .dataframe tbody tr th {\n",
       "        vertical-align: top;\n",
       "    }\n",
       "\n",
       "    .dataframe thead th {\n",
       "        text-align: right;\n",
       "    }\n",
       "</style>\n",
       "<table border=\"1\" class=\"dataframe\">\n",
       "  <thead>\n",
       "    <tr style=\"text-align: right;\">\n",
       "      <th></th>\n",
       "      <th>m_1</th>\n",
       "      <th>m_2</th>\n",
       "      <th>m_3</th>\n",
       "      <th>m_4</th>\n",
       "      <th>m_5</th>\n",
       "      <th>m_6</th>\n",
       "    </tr>\n",
       "    <tr>\n",
       "      <th>userId</th>\n",
       "      <th></th>\n",
       "      <th></th>\n",
       "      <th></th>\n",
       "      <th></th>\n",
       "      <th></th>\n",
       "      <th></th>\n",
       "    </tr>\n",
       "  </thead>\n",
       "  <tbody>\n",
       "    <tr>\n",
       "      <td>1</td>\n",
       "      <td>7.0</td>\n",
       "      <td>6.0</td>\n",
       "      <td>7.0</td>\n",
       "      <td>4</td>\n",
       "      <td>5</td>\n",
       "      <td>4.0</td>\n",
       "    </tr>\n",
       "    <tr>\n",
       "      <td>2</td>\n",
       "      <td>6.0</td>\n",
       "      <td>7.0</td>\n",
       "      <td>0.0</td>\n",
       "      <td>4</td>\n",
       "      <td>3</td>\n",
       "      <td>4.0</td>\n",
       "    </tr>\n",
       "    <tr>\n",
       "      <td>3</td>\n",
       "      <td>0.0</td>\n",
       "      <td>3.0</td>\n",
       "      <td>3.0</td>\n",
       "      <td>1</td>\n",
       "      <td>1</td>\n",
       "      <td>0.0</td>\n",
       "    </tr>\n",
       "    <tr>\n",
       "      <td>4</td>\n",
       "      <td>1.0</td>\n",
       "      <td>2.0</td>\n",
       "      <td>2.0</td>\n",
       "      <td>3</td>\n",
       "      <td>3</td>\n",
       "      <td>4.0</td>\n",
       "    </tr>\n",
       "    <tr>\n",
       "      <td>5</td>\n",
       "      <td>1.0</td>\n",
       "      <td>0.0</td>\n",
       "      <td>1.0</td>\n",
       "      <td>2</td>\n",
       "      <td>3</td>\n",
       "      <td>3.0</td>\n",
       "    </tr>\n",
       "  </tbody>\n",
       "</table>\n",
       "</div>"
      ],
      "text/plain": [
       "        m_1  m_2  m_3  m_4  m_5  m_6\n",
       "userId                              \n",
       "1       7.0  6.0  7.0    4    5  4.0\n",
       "2       6.0  7.0  0.0    4    3  4.0\n",
       "3       0.0  3.0  3.0    1    1  0.0\n",
       "4       1.0  2.0  2.0    3    3  4.0\n",
       "5       1.0  0.0  1.0    2    3  3.0"
      ]
     },
     "execution_count": 248,
     "metadata": {},
     "output_type": "execute_result"
    }
   ],
   "source": [
    "ratings_zerofilled = ratings.fillna(0)\n",
    "ratings_zerofilled"
   ]
  },
  {
   "cell_type": "code",
   "execution_count": 250,
   "metadata": {},
   "outputs": [
    {
     "name": "stderr",
     "output_type": "stream",
     "text": [
      "/Users/mihailojoksimovic/miniconda3/lib/python3.7/site-packages/ipykernel_launcher.py:1: FutureWarning: Method .as_matrix will be removed in a future version. Use .values instead.\n",
      "  \"\"\"Entry point for launching an IPython kernel.\n"
     ]
    },
    {
     "data": {
      "text/plain": [
       "array([[7., 6., 7., 4., 5., 4.],\n",
       "       [6., 7., 0., 4., 3., 4.],\n",
       "       [0., 3., 3., 1., 1., 0.],\n",
       "       [1., 2., 2., 3., 3., 4.],\n",
       "       [1., 0., 1., 2., 3., 3.]])"
      ]
     },
     "execution_count": 250,
     "metadata": {},
     "output_type": "execute_result"
    }
   ],
   "source": [
    "M = ratings_zerofilled.as_matrix()\n",
    "M"
   ]
  },
  {
   "cell_type": "code",
   "execution_count": 254,
   "metadata": {},
   "outputs": [
    {
     "data": {
      "text/plain": [
       "array([5.5       , 4.        , 1.33333333, 2.5       , 1.66666667])"
      ]
     },
     "execution_count": 254,
     "metadata": {},
     "output_type": "execute_result"
    }
   ],
   "source": [
    "M_u = M.mean(axis=1)\n",
    "M_u"
   ]
  },
  {
   "cell_type": "code",
   "execution_count": 257,
   "metadata": {},
   "outputs": [
    {
     "data": {
      "text/plain": [
       "array([[5.5       ],\n",
       "       [4.        ],\n",
       "       [1.33333333],\n",
       "       [2.5       ],\n",
       "       [1.66666667]])"
      ]
     },
     "execution_count": 257,
     "metadata": {},
     "output_type": "execute_result"
    }
   ],
   "source": [
    "M_u[:, np.newaxis]"
   ]
  },
  {
   "cell_type": "code",
   "execution_count": 261,
   "metadata": {},
   "outputs": [],
   "source": [
    "item_mean_subtracted = M - M_u[:, np.newaxis]"
   ]
  },
  {
   "cell_type": "code",
   "execution_count": 262,
   "metadata": {},
   "outputs": [
    {
     "data": {
      "text/plain": [
       "array([[ 1.        , -0.05923489,  0.4247954 , -0.8992288 , -0.71885076],\n",
       "       [-0.05923489,  1.        , -0.23904572, -0.23354968, -0.33709993],\n",
       "       [ 0.4247954 , -0.23904572,  1.        , -0.27914526, -0.64465837],\n",
       "       [-0.8992288 , -0.23354968, -0.27914526,  1.        ,  0.78729582],\n",
       "       [-0.71885076, -0.33709993, -0.64465837,  0.78729582,  1.        ]])"
      ]
     },
     "execution_count": 262,
     "metadata": {},
     "output_type": "execute_result"
    }
   ],
   "source": [
    "cosine_similarity(item_mean_subtracted)"
   ]
  },
  {
   "cell_type": "code",
   "execution_count": 265,
   "metadata": {},
   "outputs": [
    {
     "data": {
      "text/plain": [
       "array([[ 1.5       ,  0.5       ,  1.5       , -1.5       , -0.5       ,\n",
       "        -1.5       ],\n",
       "       [ 2.        ,  3.        , -4.        ,  0.        , -1.        ,\n",
       "         0.        ],\n",
       "       [-1.33333333,  1.66666667,  1.66666667, -0.33333333, -0.33333333,\n",
       "        -1.33333333],\n",
       "       [-1.5       , -0.5       , -0.5       ,  0.5       ,  0.5       ,\n",
       "         1.5       ],\n",
       "       [-0.66666667, -1.66666667, -0.66666667,  0.33333333,  1.33333333,\n",
       "         1.33333333]])"
      ]
     },
     "execution_count": 265,
     "metadata": {},
     "output_type": "execute_result"
    }
   ],
   "source": [
    "item_mean_subtracted"
   ]
  },
  {
   "cell_type": "code",
   "execution_count": 266,
   "metadata": {},
   "outputs": [
    {
     "data": {
      "text/plain": [
       "array([[ 1.        ,  0.50284547, -0.4441123 , -0.51415411, -0.65435704,\n",
       "        -0.38855339],\n",
       "       [ 0.50284547,  1.        , -0.39322122, -0.32976223, -0.87887858,\n",
       "        -0.53977794],\n",
       "       [-0.4441123 , -0.39322122,  1.        , -0.42625118,  0.18130289,\n",
       "        -0.46197695],\n",
       "       [-0.51415411, -0.32976223, -0.42625118,  1.        ,  0.51214752,\n",
       "         0.8304548 ],\n",
       "       [-0.65435704, -0.87887858,  0.18130289,  0.51214752,  1.        ,\n",
       "         0.71240324],\n",
       "       [-0.38855339, -0.53977794, -0.46197695,  0.8304548 ,  0.71240324,\n",
       "         1.        ]])"
      ]
     },
     "execution_count": 266,
     "metadata": {},
     "output_type": "execute_result"
    }
   ],
   "source": [
    "cosine_similarity(item_mean_subtracted.T)"
   ]
  },
  {
   "cell_type": "code",
   "execution_count": 268,
   "metadata": {},
   "outputs": [
    {
     "data": {
      "text/html": [
       "<div>\n",
       "<style scoped>\n",
       "    .dataframe tbody tr th:only-of-type {\n",
       "        vertical-align: middle;\n",
       "    }\n",
       "\n",
       "    .dataframe tbody tr th {\n",
       "        vertical-align: top;\n",
       "    }\n",
       "\n",
       "    .dataframe thead th {\n",
       "        text-align: right;\n",
       "    }\n",
       "</style>\n",
       "<table border=\"1\" class=\"dataframe\">\n",
       "  <thead>\n",
       "    <tr style=\"text-align: right;\">\n",
       "      <th>userId</th>\n",
       "      <th>1</th>\n",
       "      <th>2</th>\n",
       "      <th>3</th>\n",
       "      <th>4</th>\n",
       "      <th>5</th>\n",
       "    </tr>\n",
       "  </thead>\n",
       "  <tbody>\n",
       "    <tr>\n",
       "      <td>m_1</td>\n",
       "      <td>7.0</td>\n",
       "      <td>6.0</td>\n",
       "      <td>0.0</td>\n",
       "      <td>1.0</td>\n",
       "      <td>1.0</td>\n",
       "    </tr>\n",
       "    <tr>\n",
       "      <td>m_2</td>\n",
       "      <td>6.0</td>\n",
       "      <td>7.0</td>\n",
       "      <td>3.0</td>\n",
       "      <td>2.0</td>\n",
       "      <td>0.0</td>\n",
       "    </tr>\n",
       "    <tr>\n",
       "      <td>m_3</td>\n",
       "      <td>7.0</td>\n",
       "      <td>0.0</td>\n",
       "      <td>3.0</td>\n",
       "      <td>2.0</td>\n",
       "      <td>1.0</td>\n",
       "    </tr>\n",
       "    <tr>\n",
       "      <td>m_4</td>\n",
       "      <td>4.0</td>\n",
       "      <td>4.0</td>\n",
       "      <td>1.0</td>\n",
       "      <td>3.0</td>\n",
       "      <td>2.0</td>\n",
       "    </tr>\n",
       "    <tr>\n",
       "      <td>m_5</td>\n",
       "      <td>5.0</td>\n",
       "      <td>3.0</td>\n",
       "      <td>1.0</td>\n",
       "      <td>3.0</td>\n",
       "      <td>3.0</td>\n",
       "    </tr>\n",
       "    <tr>\n",
       "      <td>m_6</td>\n",
       "      <td>4.0</td>\n",
       "      <td>4.0</td>\n",
       "      <td>0.0</td>\n",
       "      <td>4.0</td>\n",
       "      <td>3.0</td>\n",
       "    </tr>\n",
       "  </tbody>\n",
       "</table>\n",
       "</div>"
      ],
      "text/plain": [
       "userId    1    2    3    4    5\n",
       "m_1     7.0  6.0  0.0  1.0  1.0\n",
       "m_2     6.0  7.0  3.0  2.0  0.0\n",
       "m_3     7.0  0.0  3.0  2.0  1.0\n",
       "m_4     4.0  4.0  1.0  3.0  2.0\n",
       "m_5     5.0  3.0  1.0  3.0  3.0\n",
       "m_6     4.0  4.0  0.0  4.0  3.0"
      ]
     },
     "execution_count": 268,
     "metadata": {},
     "output_type": "execute_result"
    }
   ],
   "source": [
    "ratings_zerofilled.T"
   ]
  },
  {
   "cell_type": "code",
   "execution_count": 274,
   "metadata": {},
   "outputs": [
    {
     "data": {
      "text/html": [
       "<div>\n",
       "<style scoped>\n",
       "    .dataframe tbody tr th:only-of-type {\n",
       "        vertical-align: middle;\n",
       "    }\n",
       "\n",
       "    .dataframe tbody tr th {\n",
       "        vertical-align: top;\n",
       "    }\n",
       "\n",
       "    .dataframe thead th {\n",
       "        text-align: right;\n",
       "    }\n",
       "</style>\n",
       "<table border=\"1\" class=\"dataframe\">\n",
       "  <thead>\n",
       "    <tr style=\"text-align: right;\">\n",
       "      <th></th>\n",
       "      <th>m_1</th>\n",
       "      <th>m_2</th>\n",
       "      <th>m_3</th>\n",
       "      <th>m_4</th>\n",
       "      <th>m_5</th>\n",
       "      <th>m_6</th>\n",
       "    </tr>\n",
       "    <tr>\n",
       "      <th>userId</th>\n",
       "      <th></th>\n",
       "      <th></th>\n",
       "      <th></th>\n",
       "      <th></th>\n",
       "      <th></th>\n",
       "      <th></th>\n",
       "    </tr>\n",
       "  </thead>\n",
       "  <tbody>\n",
       "    <tr>\n",
       "      <td>1</td>\n",
       "      <td>1.5</td>\n",
       "      <td>0.5</td>\n",
       "      <td>1.5</td>\n",
       "      <td>-1.5</td>\n",
       "      <td>-0.5</td>\n",
       "      <td>-1.5</td>\n",
       "    </tr>\n",
       "    <tr>\n",
       "      <td>2</td>\n",
       "      <td>1.2</td>\n",
       "      <td>2.2</td>\n",
       "      <td>0.0</td>\n",
       "      <td>-0.8</td>\n",
       "      <td>-1.8</td>\n",
       "      <td>-0.8</td>\n",
       "    </tr>\n",
       "    <tr>\n",
       "      <td>3</td>\n",
       "      <td>0.0</td>\n",
       "      <td>1.0</td>\n",
       "      <td>1.0</td>\n",
       "      <td>-1.0</td>\n",
       "      <td>-1.0</td>\n",
       "      <td>0.0</td>\n",
       "    </tr>\n",
       "    <tr>\n",
       "      <td>4</td>\n",
       "      <td>-1.5</td>\n",
       "      <td>-0.5</td>\n",
       "      <td>-0.5</td>\n",
       "      <td>0.5</td>\n",
       "      <td>0.5</td>\n",
       "      <td>1.5</td>\n",
       "    </tr>\n",
       "    <tr>\n",
       "      <td>5</td>\n",
       "      <td>-1.0</td>\n",
       "      <td>0.0</td>\n",
       "      <td>-1.0</td>\n",
       "      <td>0.0</td>\n",
       "      <td>1.0</td>\n",
       "      <td>1.0</td>\n",
       "    </tr>\n",
       "  </tbody>\n",
       "</table>\n",
       "</div>"
      ],
      "text/plain": [
       "        m_1  m_2  m_3  m_4  m_5  m_6\n",
       "userId                              \n",
       "1       1.5  0.5  1.5 -1.5 -0.5 -1.5\n",
       "2       1.2  2.2  0.0 -0.8 -1.8 -0.8\n",
       "3       0.0  1.0  1.0 -1.0 -1.0  0.0\n",
       "4      -1.5 -0.5 -0.5  0.5  0.5  1.5\n",
       "5      -1.0  0.0 -1.0  0.0  1.0  1.0"
      ]
     },
     "execution_count": 274,
     "metadata": {},
     "output_type": "execute_result"
    }
   ],
   "source": [
    "normalized_ratings_zerofilled = normalized_ratings.fillna(0)\n",
    "normalized_ratings_zerofilled"
   ]
  },
  {
   "cell_type": "code",
   "execution_count": 278,
   "metadata": {},
   "outputs": [
    {
     "data": {
      "text/plain": [
       "array([[ 1.        ,  0.62413132,  0.71577084, -0.73878026],\n",
       "       [ 0.62413132,  1.        ,  0.3744373 , -0.73391041],\n",
       "       [ 0.71577084,  0.3744373 ,  1.        , -0.81088939],\n",
       "       [-0.73878026, -0.73391041, -0.81088939,  1.        ],\n",
       "       [-0.73832952, -0.90509063, -0.59028134,  0.70567109],\n",
       "       [-0.9896203 , -0.522503  , -0.76097353,  0.72196647]])"
      ]
     },
     "execution_count": 278,
     "metadata": {},
     "output_type": "execute_result"
    }
   ],
   "source": [
    "cosine_similarity(normalized_ratings_zerofilled.T)[:, :4]"
   ]
  },
  {
   "cell_type": "code",
   "execution_count": null,
   "metadata": {},
   "outputs": [],
   "source": []
  }
 ],
 "metadata": {
  "kernelspec": {
   "display_name": "Python 3",
   "language": "python",
   "name": "python3"
  },
  "language_info": {
   "codemirror_mode": {
    "name": "ipython",
    "version": 3
   },
   "file_extension": ".py",
   "mimetype": "text/x-python",
   "name": "python",
   "nbconvert_exporter": "python",
   "pygments_lexer": "ipython3",
   "version": "3.7.3"
  }
 },
 "nbformat": 4,
 "nbformat_minor": 2
}
