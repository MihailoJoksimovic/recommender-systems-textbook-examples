{
 "cells": [
  {
   "cell_type": "markdown",
   "metadata": {},
   "source": [
    "# Chapter 2 - NEIGHBORHOOD-BASED COLLABORATIVE FILTERING"
   ]
  },
  {
   "cell_type": "markdown",
   "metadata": {},
   "source": [
    "The code below is my attempt at coding the Simple recommendation predictor based on similar Users ratings.\n",
    "It covers Chapter 2.3 in the Book."
   ]
  },
  {
   "cell_type": "code",
   "execution_count": 2,
   "metadata": {},
   "outputs": [],
   "source": [
    "import numpy as np\n",
    "import pandas as pd\n",
    "import seaborn as sns\n",
    "import matplotlib.pyplot as plt\n",
    "from math import sqrt\n",
    "%matplotlib inline"
   ]
  },
  {
   "cell_type": "code",
   "execution_count": 147,
   "metadata": {},
   "outputs": [],
   "source": [
    "# Recreate the data from the book\n",
    "\n",
    "data = [\n",
    "    [1, 7, 6, 7, 4, 5, 4],\n",
    "    [2, 6, 7, np.NaN, 4, 3, 4],\n",
    "    [3, np.NaN, 3, 3, 1, 1, np.NaN],\n",
    "    [4, 1, 2, 2, 3, 3, 4],\n",
    "    [5, 1, np.NaN, 1, 2, 3, 3]\n",
    "]"
   ]
  },
  {
   "cell_type": "code",
   "execution_count": 148,
   "metadata": {},
   "outputs": [
    {
     "data": {
      "text/html": [
       "<div>\n",
       "<style scoped>\n",
       "    .dataframe tbody tr th:only-of-type {\n",
       "        vertical-align: middle;\n",
       "    }\n",
       "\n",
       "    .dataframe tbody tr th {\n",
       "        vertical-align: top;\n",
       "    }\n",
       "\n",
       "    .dataframe thead th {\n",
       "        text-align: right;\n",
       "    }\n",
       "</style>\n",
       "<table border=\"1\" class=\"dataframe\">\n",
       "  <thead>\n",
       "    <tr style=\"text-align: right;\">\n",
       "      <th></th>\n",
       "      <th>m_1</th>\n",
       "      <th>m_2</th>\n",
       "      <th>m_3</th>\n",
       "      <th>m_4</th>\n",
       "      <th>m_5</th>\n",
       "      <th>m_6</th>\n",
       "    </tr>\n",
       "    <tr>\n",
       "      <th>userId</th>\n",
       "      <th></th>\n",
       "      <th></th>\n",
       "      <th></th>\n",
       "      <th></th>\n",
       "      <th></th>\n",
       "      <th></th>\n",
       "    </tr>\n",
       "  </thead>\n",
       "  <tbody>\n",
       "    <tr>\n",
       "      <th>1</th>\n",
       "      <td>7.0</td>\n",
       "      <td>6.0</td>\n",
       "      <td>7.0</td>\n",
       "      <td>4</td>\n",
       "      <td>5</td>\n",
       "      <td>4.0</td>\n",
       "    </tr>\n",
       "    <tr>\n",
       "      <th>2</th>\n",
       "      <td>6.0</td>\n",
       "      <td>7.0</td>\n",
       "      <td>NaN</td>\n",
       "      <td>4</td>\n",
       "      <td>3</td>\n",
       "      <td>4.0</td>\n",
       "    </tr>\n",
       "    <tr>\n",
       "      <th>3</th>\n",
       "      <td>NaN</td>\n",
       "      <td>3.0</td>\n",
       "      <td>3.0</td>\n",
       "      <td>1</td>\n",
       "      <td>1</td>\n",
       "      <td>NaN</td>\n",
       "    </tr>\n",
       "    <tr>\n",
       "      <th>4</th>\n",
       "      <td>1.0</td>\n",
       "      <td>2.0</td>\n",
       "      <td>2.0</td>\n",
       "      <td>3</td>\n",
       "      <td>3</td>\n",
       "      <td>4.0</td>\n",
       "    </tr>\n",
       "    <tr>\n",
       "      <th>5</th>\n",
       "      <td>1.0</td>\n",
       "      <td>NaN</td>\n",
       "      <td>1.0</td>\n",
       "      <td>2</td>\n",
       "      <td>3</td>\n",
       "      <td>3.0</td>\n",
       "    </tr>\n",
       "  </tbody>\n",
       "</table>\n",
       "</div>"
      ],
      "text/plain": [
       "        m_1  m_2  m_3  m_4  m_5  m_6\n",
       "userId                              \n",
       "1       7.0  6.0  7.0    4    5  4.0\n",
       "2       6.0  7.0  NaN    4    3  4.0\n",
       "3       NaN  3.0  3.0    1    1  NaN\n",
       "4       1.0  2.0  2.0    3    3  4.0\n",
       "5       1.0  NaN  1.0    2    3  3.0"
      ]
     },
     "execution_count": 148,
     "metadata": {},
     "output_type": "execute_result"
    }
   ],
   "source": [
    "ratings = pd.DataFrame(data, columns=['userId', 'm_1', 'm_2', 'm_3', 'm_4', 'm_5', 'm_6'])\n",
    "ratings = ratings.set_index('userId')\n",
    "ratings"
   ]
  },
  {
   "cell_type": "code",
   "execution_count": 149,
   "metadata": {},
   "outputs": [
    {
     "data": {
      "text/plain": [
       "userId\n",
       "1    5.5\n",
       "2    4.8\n",
       "3    2.0\n",
       "4    2.5\n",
       "5    2.0\n",
       "dtype: float64"
      ]
     },
     "execution_count": 149,
     "metadata": {},
     "output_type": "execute_result"
    }
   ],
   "source": [
    "# Calculate average ratings for all users\n",
    "\n",
    "users_avg_rating = ratings.mean(axis=1)\n",
    "users_avg_rating"
   ]
  },
  {
   "cell_type": "code",
   "execution_count": 150,
   "metadata": {},
   "outputs": [
    {
     "data": {
      "text/html": [
       "<div>\n",
       "<style scoped>\n",
       "    .dataframe tbody tr th:only-of-type {\n",
       "        vertical-align: middle;\n",
       "    }\n",
       "\n",
       "    .dataframe tbody tr th {\n",
       "        vertical-align: top;\n",
       "    }\n",
       "\n",
       "    .dataframe thead th {\n",
       "        text-align: right;\n",
       "    }\n",
       "</style>\n",
       "<table border=\"1\" class=\"dataframe\">\n",
       "  <thead>\n",
       "    <tr style=\"text-align: right;\">\n",
       "      <th></th>\n",
       "      <th>m_1</th>\n",
       "      <th>m_2</th>\n",
       "      <th>m_3</th>\n",
       "      <th>m_4</th>\n",
       "      <th>m_5</th>\n",
       "      <th>m_6</th>\n",
       "    </tr>\n",
       "    <tr>\n",
       "      <th>userId</th>\n",
       "      <th></th>\n",
       "      <th></th>\n",
       "      <th></th>\n",
       "      <th></th>\n",
       "      <th></th>\n",
       "      <th></th>\n",
       "    </tr>\n",
       "  </thead>\n",
       "  <tbody>\n",
       "    <tr>\n",
       "      <th>1</th>\n",
       "      <td>1.5</td>\n",
       "      <td>0.5</td>\n",
       "      <td>1.5</td>\n",
       "      <td>-1.5</td>\n",
       "      <td>-0.5</td>\n",
       "      <td>-1.5</td>\n",
       "    </tr>\n",
       "    <tr>\n",
       "      <th>2</th>\n",
       "      <td>1.2</td>\n",
       "      <td>2.2</td>\n",
       "      <td>NaN</td>\n",
       "      <td>-0.8</td>\n",
       "      <td>-1.8</td>\n",
       "      <td>-0.8</td>\n",
       "    </tr>\n",
       "    <tr>\n",
       "      <th>3</th>\n",
       "      <td>NaN</td>\n",
       "      <td>1.0</td>\n",
       "      <td>1.0</td>\n",
       "      <td>-1.0</td>\n",
       "      <td>-1.0</td>\n",
       "      <td>NaN</td>\n",
       "    </tr>\n",
       "    <tr>\n",
       "      <th>4</th>\n",
       "      <td>-1.5</td>\n",
       "      <td>-0.5</td>\n",
       "      <td>-0.5</td>\n",
       "      <td>0.5</td>\n",
       "      <td>0.5</td>\n",
       "      <td>1.5</td>\n",
       "    </tr>\n",
       "    <tr>\n",
       "      <th>5</th>\n",
       "      <td>-1.0</td>\n",
       "      <td>NaN</td>\n",
       "      <td>-1.0</td>\n",
       "      <td>0.0</td>\n",
       "      <td>1.0</td>\n",
       "      <td>1.0</td>\n",
       "    </tr>\n",
       "  </tbody>\n",
       "</table>\n",
       "</div>"
      ],
      "text/plain": [
       "        m_1  m_2  m_3  m_4  m_5  m_6\n",
       "userId                              \n",
       "1       1.5  0.5  1.5 -1.5 -0.5 -1.5\n",
       "2       1.2  2.2  NaN -0.8 -1.8 -0.8\n",
       "3       NaN  1.0  1.0 -1.0 -1.0  NaN\n",
       "4      -1.5 -0.5 -0.5  0.5  0.5  1.5\n",
       "5      -1.0  NaN -1.0  0.0  1.0  1.0"
      ]
     },
     "execution_count": 150,
     "metadata": {},
     "output_type": "execute_result"
    }
   ],
   "source": [
    "# Normalize the ratings (make the mean value 0); this is optional but according to the book, predictions made\n",
    "# with zeroed mean value tend to be a bit better\n",
    "\n",
    "normalized_ratings = ratings.apply(lambda x: x - users_avg_rating[x.name], axis=1)\n",
    "normalized_ratings"
   ]
  },
  {
   "cell_type": "code",
   "execution_count": 219,
   "metadata": {},
   "outputs": [],
   "source": [
    "def pearson_coeff(u, v):\n",
    "    '''\n",
    "    Calculates the pearson coefficient (i.e. similarity) between two users.\n",
    "    \n",
    "    The code is based on the formula 2.2 from the Book.\n",
    "    \n",
    "    It works by calculating the intersect (i.e. movies rated by both users), and then calculates pearson coeff.\n",
    "    for those two.\n",
    "    \n",
    "    Parameters\n",
    "    ----------\n",
    "    u : Series with ratings by user \"u\"\n",
    "    v : Series with ratings by user \"v\"\n",
    "    '''\n",
    "\n",
    "    intersect = u[u.notna() & v.notna()] # Intersect of movies rated by both user\n",
    "    \n",
    "    if intersect.size == 0:\n",
    "        return 0\n",
    "    \n",
    "    # Upper part of Pearson's equation .. no idea how it's called\n",
    "    sum_of_diffs = sum(((u[intersect.index]) * (v[intersect.index])).values)\n",
    "    \n",
    "    u_sqrt = sqrt(pow(u[intersect.index], 2).sum())\n",
    "    v_sqrt = sqrt(pow(v[intersect.index], 2).sum())\n",
    "    \n",
    "    pearson = sum_of_diffs / (u_sqrt * v_sqrt)\n",
    "    \n",
    "    return pearson"
   ]
  },
  {
   "cell_type": "code",
   "execution_count": 216,
   "metadata": {},
   "outputs": [
    {
     "data": {
      "text/plain": [
       "0.8944271909999159"
      ]
     },
     "execution_count": 216,
     "metadata": {},
     "output_type": "execute_result"
    }
   ],
   "source": [
    "# Test what the book says -- pearson coeff. between users 1 and 3 should be 0.89\n",
    "pearson_coeff(normalized_ratings.loc[1], normalized_ratings.loc[3])"
   ]
  },
  {
   "cell_type": "markdown",
   "metadata": {},
   "source": [
    "We're going to define the three main functions now:\n",
    "\n",
    "    - get_similarities() -- returns Pearson coefficients for given User\n",
    "\n",
    "    - get_similar_users_who_rated_given_movie -- returns set of Users \n",
    "            who are positively correlated with target user and who also \n",
    "            rated the movie that we are trying to get recommendation for\n",
    "\n",
    "    - predict_rating() -- main function that we will be calling. Predicts\n",
    "            rating of given movie for given user.\n"
   ]
  },
  {
   "cell_type": "code",
   "execution_count": 210,
   "metadata": {},
   "outputs": [],
   "source": [
    "def get_similarities(user_id):\n",
    "    '''Calculates similarities between given user ID and other users'''\n",
    "    return normalized_ratings.apply(\n",
    "        lambda x: pearson_coeff(normalized_ratings.loc[user_id], normalized_ratings.loc[x.name]),\n",
    "        axis=1\n",
    "    )\n",
    "\n",
    "def get_similar_users_who_rated_given_movie(similarities, movie_id, k = 50):\n",
    "    '''Returns set of Users who are positively correlated (according to similarities array) \n",
    "    and who rated the given movie'''\n",
    "    \n",
    "    P = set(\n",
    "        similarities[similarities > 0].sort_values(ascending=False).head(k).index &  # Only positive correlations\n",
    "        normalized_ratings[normalized_ratings[movie_id].notna()].index\n",
    "    )\n",
    "    \n",
    "    return P\n",
    "\n",
    "def predict_rating(user_id, movie_id):\n",
    "    '''Predicts the rating of given movie for the given user'''\n",
    "    \n",
    "    if not np.isnan(ratings.loc[user_id][movie_id]):\n",
    "        return ratings.loc[user_id][movie_id]\n",
    "    \n",
    "    similarities = get_similarities(user_id)\n",
    "    \n",
    "    P = get_similar_users_who_rated_given_movie(similarities, movie_id)\n",
    "    \n",
    "    mu = users_avg_rating[user_id]\n",
    "\n",
    "    # This is basically using the formula 2.4 from the book\n",
    "    return mu + (sum(similarities.loc[P] * normalized_ratings.loc[P][movie_id]) / sum(similarities.loc[P]))"
   ]
  },
  {
   "cell_type": "markdown",
   "metadata": {},
   "source": [
    "Finally, let's test what we've got. According to the book, predicted rating for user 3 for movie 1 should be 3.35 and for movie 6 it should be 0.85"
   ]
  },
  {
   "cell_type": "code",
   "execution_count": 217,
   "metadata": {},
   "outputs": [
    {
     "data": {
      "text/plain": [
       "3.3463952993809016"
      ]
     },
     "execution_count": 217,
     "metadata": {},
     "output_type": "execute_result"
    }
   ],
   "source": [
    "predict_rating(3, 'm_1') # Predicted rating for user 3 for movie 1"
   ]
  },
  {
   "cell_type": "code",
   "execution_count": 218,
   "metadata": {},
   "outputs": [
    {
     "data": {
      "text/plain": [
       "0.8584109681112306"
      ]
     },
     "execution_count": 218,
     "metadata": {},
     "output_type": "execute_result"
    }
   ],
   "source": [
    "predict_rating(3, 'm_6') # Predicted rating for user 3 for movie 6"
   ]
  },
  {
   "cell_type": "markdown",
   "metadata": {},
   "source": [
    "Looks like we've got the correct results. Woohoo!"
   ]
  },
  {
   "cell_type": "code",
   "execution_count": null,
   "metadata": {},
   "outputs": [],
   "source": []
  }
 ],
 "metadata": {
  "kernelspec": {
   "display_name": "Python 3",
   "language": "python",
   "name": "python3"
  },
  "language_info": {
   "codemirror_mode": {
    "name": "ipython",
    "version": 3
   },
   "file_extension": ".py",
   "mimetype": "text/x-python",
   "name": "python",
   "nbconvert_exporter": "python",
   "pygments_lexer": "ipython3",
   "version": "3.6.8"
  }
 },
 "nbformat": 4,
 "nbformat_minor": 2
}
