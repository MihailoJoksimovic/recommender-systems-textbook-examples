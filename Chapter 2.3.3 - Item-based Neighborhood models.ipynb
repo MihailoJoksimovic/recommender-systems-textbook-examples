{
 "cells": [
  {
   "cell_type": "code",
   "execution_count": 2,
   "metadata": {},
   "outputs": [],
   "source": [
    "import numpy as np\n",
    "import pandas as pd\n",
    "from sklearn.metrics.pairwise import cosine_similarity\n",
    "\n",
    "%matplotlib inline\n",
    "%config Completer.use_jedi = False"
   ]
  },
  {
   "cell_type": "markdown",
   "metadata": {},
   "source": [
    "In this notebook, I'm going to implement the formulas for predicting the ratings of movies using the Item-based neighborhood models.\n",
    "\n",
    "The provided implementation is optimized for understandability, rather than being optimized for comuptational efficiency."
   ]
  },
  {
   "cell_type": "markdown",
   "metadata": {},
   "source": [
    "Let's start by recreating the ratings dataset as provided in book in table 2.1. To make our lives easier, we'll use Pandas dataframe."
   ]
  },
  {
   "cell_type": "code",
   "execution_count": 4,
   "metadata": {},
   "outputs": [
    {
     "data": {
      "text/html": [
       "<div>\n",
       "<style scoped>\n",
       "    .dataframe tbody tr th:only-of-type {\n",
       "        vertical-align: middle;\n",
       "    }\n",
       "\n",
       "    .dataframe tbody tr th {\n",
       "        vertical-align: top;\n",
       "    }\n",
       "\n",
       "    .dataframe thead th {\n",
       "        text-align: right;\n",
       "    }\n",
       "</style>\n",
       "<table border=\"1\" class=\"dataframe\">\n",
       "  <thead>\n",
       "    <tr style=\"text-align: right;\">\n",
       "      <th></th>\n",
       "      <th>m_1</th>\n",
       "      <th>m_2</th>\n",
       "      <th>m_3</th>\n",
       "      <th>m_4</th>\n",
       "      <th>m_5</th>\n",
       "      <th>m_6</th>\n",
       "    </tr>\n",
       "    <tr>\n",
       "      <th>userId</th>\n",
       "      <th></th>\n",
       "      <th></th>\n",
       "      <th></th>\n",
       "      <th></th>\n",
       "      <th></th>\n",
       "      <th></th>\n",
       "    </tr>\n",
       "  </thead>\n",
       "  <tbody>\n",
       "    <tr>\n",
       "      <td>1</td>\n",
       "      <td>7.0</td>\n",
       "      <td>6.0</td>\n",
       "      <td>7.0</td>\n",
       "      <td>4</td>\n",
       "      <td>5</td>\n",
       "      <td>4.0</td>\n",
       "    </tr>\n",
       "    <tr>\n",
       "      <td>2</td>\n",
       "      <td>6.0</td>\n",
       "      <td>7.0</td>\n",
       "      <td>NaN</td>\n",
       "      <td>4</td>\n",
       "      <td>3</td>\n",
       "      <td>4.0</td>\n",
       "    </tr>\n",
       "    <tr>\n",
       "      <td>3</td>\n",
       "      <td>NaN</td>\n",
       "      <td>3.0</td>\n",
       "      <td>3.0</td>\n",
       "      <td>1</td>\n",
       "      <td>1</td>\n",
       "      <td>NaN</td>\n",
       "    </tr>\n",
       "    <tr>\n",
       "      <td>4</td>\n",
       "      <td>1.0</td>\n",
       "      <td>2.0</td>\n",
       "      <td>2.0</td>\n",
       "      <td>3</td>\n",
       "      <td>3</td>\n",
       "      <td>4.0</td>\n",
       "    </tr>\n",
       "    <tr>\n",
       "      <td>5</td>\n",
       "      <td>1.0</td>\n",
       "      <td>NaN</td>\n",
       "      <td>1.0</td>\n",
       "      <td>2</td>\n",
       "      <td>3</td>\n",
       "      <td>3.0</td>\n",
       "    </tr>\n",
       "  </tbody>\n",
       "</table>\n",
       "</div>"
      ],
      "text/plain": [
       "        m_1  m_2  m_3  m_4  m_5  m_6\n",
       "userId                              \n",
       "1       7.0  6.0  7.0    4    5  4.0\n",
       "2       6.0  7.0  NaN    4    3  4.0\n",
       "3       NaN  3.0  3.0    1    1  NaN\n",
       "4       1.0  2.0  2.0    3    3  4.0\n",
       "5       1.0  NaN  1.0    2    3  3.0"
      ]
     },
     "execution_count": 4,
     "metadata": {},
     "output_type": "execute_result"
    }
   ],
   "source": [
    "data = [\n",
    "    [1, 7, 6, 7, 4, 5, 4],\n",
    "    [2, 6, 7, np.NaN, 4, 3, 4],\n",
    "    [3, np.NaN, 3, 3, 1, 1, np.NaN],\n",
    "    [4, 1, 2, 2, 3, 3, 4],\n",
    "    [5, 1, np.NaN, 1, 2, 3, 3]\n",
    "]\n",
    "\n",
    "\n",
    "ratings = pd.DataFrame(data, columns=['userId', 'm_1', 'm_2', 'm_3', 'm_4', 'm_5', 'm_6'])\n",
    "ratings = ratings.set_index('userId')\n",
    "ratings"
   ]
  },
  {
   "cell_type": "markdown",
   "metadata": {},
   "source": [
    "There. It's exactly the same as it is in the book. Let's normalize tha ratings now. Normalization is done by mean-centering the rows (i.e. for each cell, subtract the mean value of that row). What this is effectively doing is mean-centering users ratings."
   ]
  },
  {
   "cell_type": "code",
   "execution_count": 5,
   "metadata": {},
   "outputs": [
    {
     "data": {
      "text/html": [
       "<div>\n",
       "<style scoped>\n",
       "    .dataframe tbody tr th:only-of-type {\n",
       "        vertical-align: middle;\n",
       "    }\n",
       "\n",
       "    .dataframe tbody tr th {\n",
       "        vertical-align: top;\n",
       "    }\n",
       "\n",
       "    .dataframe thead th {\n",
       "        text-align: right;\n",
       "    }\n",
       "</style>\n",
       "<table border=\"1\" class=\"dataframe\">\n",
       "  <thead>\n",
       "    <tr style=\"text-align: right;\">\n",
       "      <th></th>\n",
       "      <th>m_1</th>\n",
       "      <th>m_2</th>\n",
       "      <th>m_3</th>\n",
       "      <th>m_4</th>\n",
       "      <th>m_5</th>\n",
       "      <th>m_6</th>\n",
       "    </tr>\n",
       "    <tr>\n",
       "      <th>userId</th>\n",
       "      <th></th>\n",
       "      <th></th>\n",
       "      <th></th>\n",
       "      <th></th>\n",
       "      <th></th>\n",
       "      <th></th>\n",
       "    </tr>\n",
       "  </thead>\n",
       "  <tbody>\n",
       "    <tr>\n",
       "      <td>1</td>\n",
       "      <td>1.5</td>\n",
       "      <td>0.5</td>\n",
       "      <td>1.5</td>\n",
       "      <td>-1.5</td>\n",
       "      <td>-0.5</td>\n",
       "      <td>-1.5</td>\n",
       "    </tr>\n",
       "    <tr>\n",
       "      <td>2</td>\n",
       "      <td>1.2</td>\n",
       "      <td>2.2</td>\n",
       "      <td>NaN</td>\n",
       "      <td>-0.8</td>\n",
       "      <td>-1.8</td>\n",
       "      <td>-0.8</td>\n",
       "    </tr>\n",
       "    <tr>\n",
       "      <td>3</td>\n",
       "      <td>NaN</td>\n",
       "      <td>1.0</td>\n",
       "      <td>1.0</td>\n",
       "      <td>-1.0</td>\n",
       "      <td>-1.0</td>\n",
       "      <td>NaN</td>\n",
       "    </tr>\n",
       "    <tr>\n",
       "      <td>4</td>\n",
       "      <td>-1.5</td>\n",
       "      <td>-0.5</td>\n",
       "      <td>-0.5</td>\n",
       "      <td>0.5</td>\n",
       "      <td>0.5</td>\n",
       "      <td>1.5</td>\n",
       "    </tr>\n",
       "    <tr>\n",
       "      <td>5</td>\n",
       "      <td>-1.0</td>\n",
       "      <td>NaN</td>\n",
       "      <td>-1.0</td>\n",
       "      <td>0.0</td>\n",
       "      <td>1.0</td>\n",
       "      <td>1.0</td>\n",
       "    </tr>\n",
       "  </tbody>\n",
       "</table>\n",
       "</div>"
      ],
      "text/plain": [
       "        m_1  m_2  m_3  m_4  m_5  m_6\n",
       "userId                              \n",
       "1       1.5  0.5  1.5 -1.5 -0.5 -1.5\n",
       "2       1.2  2.2  NaN -0.8 -1.8 -0.8\n",
       "3       NaN  1.0  1.0 -1.0 -1.0  NaN\n",
       "4      -1.5 -0.5 -0.5  0.5  0.5  1.5\n",
       "5      -1.0  NaN -1.0  0.0  1.0  1.0"
      ]
     },
     "execution_count": 5,
     "metadata": {},
     "output_type": "execute_result"
    }
   ],
   "source": [
    "normalized_ratings = ratings.apply(lambda x: x - x.mean(), axis=1)\n",
    "normalized_ratings"
   ]
  },
  {
   "cell_type": "markdown",
   "metadata": {},
   "source": [
    "Nice and sweet. So all rows are mean-centered now.\n",
    "\n",
    "In order to efficiently compute the cosine similarities, we will replace the NaN values with zeroes. For anyone wondering - no, this does not affect the similarities in any way."
   ]
  },
  {
   "cell_type": "code",
   "execution_count": 6,
   "metadata": {},
   "outputs": [
    {
     "data": {
      "text/html": [
       "<div>\n",
       "<style scoped>\n",
       "    .dataframe tbody tr th:only-of-type {\n",
       "        vertical-align: middle;\n",
       "    }\n",
       "\n",
       "    .dataframe tbody tr th {\n",
       "        vertical-align: top;\n",
       "    }\n",
       "\n",
       "    .dataframe thead th {\n",
       "        text-align: right;\n",
       "    }\n",
       "</style>\n",
       "<table border=\"1\" class=\"dataframe\">\n",
       "  <thead>\n",
       "    <tr style=\"text-align: right;\">\n",
       "      <th></th>\n",
       "      <th>m_1</th>\n",
       "      <th>m_2</th>\n",
       "      <th>m_3</th>\n",
       "      <th>m_4</th>\n",
       "      <th>m_5</th>\n",
       "      <th>m_6</th>\n",
       "    </tr>\n",
       "    <tr>\n",
       "      <th>userId</th>\n",
       "      <th></th>\n",
       "      <th></th>\n",
       "      <th></th>\n",
       "      <th></th>\n",
       "      <th></th>\n",
       "      <th></th>\n",
       "    </tr>\n",
       "  </thead>\n",
       "  <tbody>\n",
       "    <tr>\n",
       "      <td>1</td>\n",
       "      <td>1.5</td>\n",
       "      <td>0.5</td>\n",
       "      <td>1.5</td>\n",
       "      <td>-1.5</td>\n",
       "      <td>-0.5</td>\n",
       "      <td>-1.5</td>\n",
       "    </tr>\n",
       "    <tr>\n",
       "      <td>2</td>\n",
       "      <td>1.2</td>\n",
       "      <td>2.2</td>\n",
       "      <td>0.0</td>\n",
       "      <td>-0.8</td>\n",
       "      <td>-1.8</td>\n",
       "      <td>-0.8</td>\n",
       "    </tr>\n",
       "    <tr>\n",
       "      <td>3</td>\n",
       "      <td>0.0</td>\n",
       "      <td>1.0</td>\n",
       "      <td>1.0</td>\n",
       "      <td>-1.0</td>\n",
       "      <td>-1.0</td>\n",
       "      <td>0.0</td>\n",
       "    </tr>\n",
       "    <tr>\n",
       "      <td>4</td>\n",
       "      <td>-1.5</td>\n",
       "      <td>-0.5</td>\n",
       "      <td>-0.5</td>\n",
       "      <td>0.5</td>\n",
       "      <td>0.5</td>\n",
       "      <td>1.5</td>\n",
       "    </tr>\n",
       "    <tr>\n",
       "      <td>5</td>\n",
       "      <td>-1.0</td>\n",
       "      <td>0.0</td>\n",
       "      <td>-1.0</td>\n",
       "      <td>0.0</td>\n",
       "      <td>1.0</td>\n",
       "      <td>1.0</td>\n",
       "    </tr>\n",
       "  </tbody>\n",
       "</table>\n",
       "</div>"
      ],
      "text/plain": [
       "        m_1  m_2  m_3  m_4  m_5  m_6\n",
       "userId                              \n",
       "1       1.5  0.5  1.5 -1.5 -0.5 -1.5\n",
       "2       1.2  2.2  0.0 -0.8 -1.8 -0.8\n",
       "3       0.0  1.0  1.0 -1.0 -1.0  0.0\n",
       "4      -1.5 -0.5 -0.5  0.5  0.5  1.5\n",
       "5      -1.0  0.0 -1.0  0.0  1.0  1.0"
      ]
     },
     "execution_count": 6,
     "metadata": {},
     "output_type": "execute_result"
    }
   ],
   "source": [
    "normalized_ratings = normalized_ratings.fillna(0)\n",
    "normalized_ratings"
   ]
  },
  {
   "cell_type": "markdown",
   "metadata": {},
   "source": [
    "Much better. Now the 0.0 ratings are set for missing ratings, and everything else is mean centered. Next step is calculation of cosine similarity coefficients, also referred to as \"adjusted cosine similarities\". The adverb \"adjusted\" is used because we are calculating coefficients against a previously mean-centered matrix.\n",
    "\n",
    "We will not code the formula 2.14 by hand and will rather rely on using the SciKit's `cosine_similarity()` function. This function calculates the the cosine similarities between the rows in the matrix. Since we need coefficients for items, we will first transpose the matrix and then calculate the coefficients. "
   ]
  },
  {
   "cell_type": "code",
   "execution_count": 8,
   "metadata": {},
   "outputs": [
    {
     "data": {
      "text/html": [
       "<div>\n",
       "<style scoped>\n",
       "    .dataframe tbody tr th:only-of-type {\n",
       "        vertical-align: middle;\n",
       "    }\n",
       "\n",
       "    .dataframe tbody tr th {\n",
       "        vertical-align: top;\n",
       "    }\n",
       "\n",
       "    .dataframe thead th {\n",
       "        text-align: right;\n",
       "    }\n",
       "</style>\n",
       "<table border=\"1\" class=\"dataframe\">\n",
       "  <thead>\n",
       "    <tr style=\"text-align: right;\">\n",
       "      <th>userId</th>\n",
       "      <th>1</th>\n",
       "      <th>2</th>\n",
       "      <th>3</th>\n",
       "      <th>4</th>\n",
       "      <th>5</th>\n",
       "    </tr>\n",
       "  </thead>\n",
       "  <tbody>\n",
       "    <tr>\n",
       "      <td>m_1</td>\n",
       "      <td>1.5</td>\n",
       "      <td>1.2</td>\n",
       "      <td>0.0</td>\n",
       "      <td>-1.5</td>\n",
       "      <td>-1.0</td>\n",
       "    </tr>\n",
       "    <tr>\n",
       "      <td>m_2</td>\n",
       "      <td>0.5</td>\n",
       "      <td>2.2</td>\n",
       "      <td>1.0</td>\n",
       "      <td>-0.5</td>\n",
       "      <td>0.0</td>\n",
       "    </tr>\n",
       "    <tr>\n",
       "      <td>m_3</td>\n",
       "      <td>1.5</td>\n",
       "      <td>0.0</td>\n",
       "      <td>1.0</td>\n",
       "      <td>-0.5</td>\n",
       "      <td>-1.0</td>\n",
       "    </tr>\n",
       "    <tr>\n",
       "      <td>m_4</td>\n",
       "      <td>-1.5</td>\n",
       "      <td>-0.8</td>\n",
       "      <td>-1.0</td>\n",
       "      <td>0.5</td>\n",
       "      <td>0.0</td>\n",
       "    </tr>\n",
       "    <tr>\n",
       "      <td>m_5</td>\n",
       "      <td>-0.5</td>\n",
       "      <td>-1.8</td>\n",
       "      <td>-1.0</td>\n",
       "      <td>0.5</td>\n",
       "      <td>1.0</td>\n",
       "    </tr>\n",
       "    <tr>\n",
       "      <td>m_6</td>\n",
       "      <td>-1.5</td>\n",
       "      <td>-0.8</td>\n",
       "      <td>0.0</td>\n",
       "      <td>1.5</td>\n",
       "      <td>1.0</td>\n",
       "    </tr>\n",
       "  </tbody>\n",
       "</table>\n",
       "</div>"
      ],
      "text/plain": [
       "userId    1    2    3    4    5\n",
       "m_1     1.5  1.2  0.0 -1.5 -1.0\n",
       "m_2     0.5  2.2  1.0 -0.5  0.0\n",
       "m_3     1.5  0.0  1.0 -0.5 -1.0\n",
       "m_4    -1.5 -0.8 -1.0  0.5  0.0\n",
       "m_5    -0.5 -1.8 -1.0  0.5  1.0\n",
       "m_6    -1.5 -0.8  0.0  1.5  1.0"
      ]
     },
     "execution_count": 8,
     "metadata": {},
     "output_type": "execute_result"
    }
   ],
   "source": [
    "# Transposing the matrix switches columns and rows\n",
    "normalized_ratings.T"
   ]
  },
  {
   "cell_type": "code",
   "execution_count": 9,
   "metadata": {},
   "outputs": [
    {
     "data": {
      "text/plain": [
       "array([[ 1.        ,  0.62413132,  0.71577084, -0.73878026, -0.73832952],\n",
       "       [ 0.62413132,  1.        ,  0.3744373 , -0.73391041, -0.90509063],\n",
       "       [ 0.71577084,  0.3744373 ,  1.        , -0.81088939, -0.59028134],\n",
       "       [-0.73878026, -0.73391041, -0.81088939,  1.        ,  0.70567109],\n",
       "       [-0.73832952, -0.90509063, -0.59028134,  0.70567109,  1.        ],\n",
       "       [-0.9896203 , -0.522503  , -0.76097353,  0.72196647,  0.66367597]])"
      ]
     },
     "execution_count": 9,
     "metadata": {},
     "output_type": "execute_result"
    }
   ],
   "source": [
    "# Calculate similarity coefficients now\n",
    "similarity_coefficients = cosine_similarity(normalized_ratings.T)\n",
    "similarity_coefficients[:, :5]"
   ]
  },
  {
   "cell_type": "markdown",
   "metadata": {},
   "source": [
    "That was easy. Now, for sake of faster lookups and general ease of use, we'll convert this matrix to Pandas dataframe. You'll see later one why I found this as more useful approach."
   ]
  },
  {
   "cell_type": "code",
   "execution_count": 10,
   "metadata": {},
   "outputs": [
    {
     "data": {
      "text/html": [
       "<div>\n",
       "<style scoped>\n",
       "    .dataframe tbody tr th:only-of-type {\n",
       "        vertical-align: middle;\n",
       "    }\n",
       "\n",
       "    .dataframe tbody tr th {\n",
       "        vertical-align: top;\n",
       "    }\n",
       "\n",
       "    .dataframe thead th {\n",
       "        text-align: right;\n",
       "    }\n",
       "</style>\n",
       "<table border=\"1\" class=\"dataframe\">\n",
       "  <thead>\n",
       "    <tr style=\"text-align: right;\">\n",
       "      <th></th>\n",
       "      <th>m_1</th>\n",
       "      <th>m_2</th>\n",
       "      <th>m_3</th>\n",
       "      <th>m_4</th>\n",
       "      <th>m_5</th>\n",
       "      <th>m_6</th>\n",
       "    </tr>\n",
       "  </thead>\n",
       "  <tbody>\n",
       "    <tr>\n",
       "      <td>m_1</td>\n",
       "      <td>1.000000</td>\n",
       "      <td>0.624131</td>\n",
       "      <td>0.715771</td>\n",
       "      <td>-0.738780</td>\n",
       "      <td>-0.738330</td>\n",
       "      <td>-0.989620</td>\n",
       "    </tr>\n",
       "    <tr>\n",
       "      <td>m_2</td>\n",
       "      <td>0.624131</td>\n",
       "      <td>1.000000</td>\n",
       "      <td>0.374437</td>\n",
       "      <td>-0.733910</td>\n",
       "      <td>-0.905091</td>\n",
       "      <td>-0.522503</td>\n",
       "    </tr>\n",
       "    <tr>\n",
       "      <td>m_3</td>\n",
       "      <td>0.715771</td>\n",
       "      <td>0.374437</td>\n",
       "      <td>1.000000</td>\n",
       "      <td>-0.810889</td>\n",
       "      <td>-0.590281</td>\n",
       "      <td>-0.760974</td>\n",
       "    </tr>\n",
       "    <tr>\n",
       "      <td>m_4</td>\n",
       "      <td>-0.738780</td>\n",
       "      <td>-0.733910</td>\n",
       "      <td>-0.810889</td>\n",
       "      <td>1.000000</td>\n",
       "      <td>0.705671</td>\n",
       "      <td>0.721966</td>\n",
       "    </tr>\n",
       "    <tr>\n",
       "      <td>m_5</td>\n",
       "      <td>-0.738330</td>\n",
       "      <td>-0.905091</td>\n",
       "      <td>-0.590281</td>\n",
       "      <td>0.705671</td>\n",
       "      <td>1.000000</td>\n",
       "      <td>0.663676</td>\n",
       "    </tr>\n",
       "    <tr>\n",
       "      <td>m_6</td>\n",
       "      <td>-0.989620</td>\n",
       "      <td>-0.522503</td>\n",
       "      <td>-0.760974</td>\n",
       "      <td>0.721966</td>\n",
       "      <td>0.663676</td>\n",
       "      <td>1.000000</td>\n",
       "    </tr>\n",
       "  </tbody>\n",
       "</table>\n",
       "</div>"
      ],
      "text/plain": [
       "          m_1       m_2       m_3       m_4       m_5       m_6\n",
       "m_1  1.000000  0.624131  0.715771 -0.738780 -0.738330 -0.989620\n",
       "m_2  0.624131  1.000000  0.374437 -0.733910 -0.905091 -0.522503\n",
       "m_3  0.715771  0.374437  1.000000 -0.810889 -0.590281 -0.760974\n",
       "m_4 -0.738780 -0.733910 -0.810889  1.000000  0.705671  0.721966\n",
       "m_5 -0.738330 -0.905091 -0.590281  0.705671  1.000000  0.663676\n",
       "m_6 -0.989620 -0.522503 -0.760974  0.721966  0.663676  1.000000"
      ]
     },
     "execution_count": 10,
     "metadata": {},
     "output_type": "execute_result"
    }
   ],
   "source": [
    "# Convert similarity coefficients to DataFrame for easier searching\n",
    "similarity_coefficients = pd.DataFrame(index=normalized_ratings.columns, columns=normalized_ratings.columns, data=similarity_coefficients)\n",
    "similarity_coefficients"
   ]
  },
  {
   "cell_type": "markdown",
   "metadata": {},
   "source": [
    "There. We made it so that both row and columns indices are items. This will allow us to quickly search for similarity between X and Y items, e.g. `similarity_coefficients.loc['m_1']['m_3']` will provide us with adjusted similarity coefficient between movies 1 and 3.\n",
    "\n",
    "Next step is defining the function that will return the movies similar to target movie. This is actually pretty easy. All we need to do is to take the similarity coefficients for given movie, sort them in descending order (so that highest coefficients come first) and then return the top-k results."
   ]
  },
  {
   "cell_type": "code",
   "execution_count": 11,
   "metadata": {},
   "outputs": [],
   "source": [
    "def get_similar_movies(target_movie, k=10):\n",
    "    '''Returns list of top-k movies similar to target movie'''\n",
    "    \n",
    "    # Get all coefficients for the target movie\n",
    "    similar_movies = similarity_coefficients.loc[target_movie]\n",
    "    \n",
    "    # Drop the target_movies as we don't want to report the Target Movie as being similar to Target Movie\n",
    "    similar_movies = similar_movies.drop(target_movie)\n",
    "    \n",
    "    # Sort in Descending order. More similar ones should come first\n",
    "    similar_movies = similar_movies.sort_values(ascending=False)\n",
    "    \n",
    "    # Leave only the ones that are positively correlated with target movie\n",
    "    similar_movies = similar_movies[similar_movies > 0]\n",
    "    \n",
    "    # Return top-k results\n",
    "    return similar_movies.head(k)"
   ]
  },
  {
   "cell_type": "markdown",
   "metadata": {},
   "source": [
    "Cool. Let's see how that works"
   ]
  },
  {
   "cell_type": "code",
   "execution_count": 13,
   "metadata": {},
   "outputs": [
    {
     "data": {
      "text/plain": [
       "m_3    0.715771\n",
       "m_2    0.624131\n",
       "Name: m_1, dtype: float64"
      ]
     },
     "execution_count": 13,
     "metadata": {},
     "output_type": "execute_result"
    }
   ],
   "source": [
    "get_similar_movies('m_1')"
   ]
  },
  {
   "cell_type": "code",
   "execution_count": 14,
   "metadata": {},
   "outputs": [
    {
     "data": {
      "text/plain": [
       "m_4    0.705671\n",
       "m_6    0.663676\n",
       "Name: m_5, dtype: float64"
      ]
     },
     "execution_count": 14,
     "metadata": {},
     "output_type": "execute_result"
    }
   ],
   "source": [
    "get_similar_movies('m_5')"
   ]
  },
  {
   "cell_type": "markdown",
   "metadata": {},
   "source": [
    "So what this telling us is that, for move 1, movies 2 and 3 seem to be similar. For movie 5, movies 4 and 6 are most similar. This matches exactly to what is written in the book.\n",
    "\n",
    "Let's write a function for predicting the ratings now. We will be using formula 2.15 for this"
   ]
  },
  {
   "cell_type": "code",
   "execution_count": 15,
   "metadata": {},
   "outputs": [],
   "source": [
    "def predict_rating(target_user, target_movie):\n",
    "    '''Predicts rating of target user for target movie'''\n",
    "\n",
    "    # First, find the movies that are similar to target movie\n",
    "    similar_movies = get_similar_movies(target_movie, k = 100)\n",
    "    \n",
    "    # Out of those that are similar, leave only the ones that were rated by given user\n",
    "    similar_movies_that_were_rated_by_user = ratings.loc[target_user][similar_movies.index].dropna()\n",
    "    \n",
    "    # Similarity coefficients between the target movie and the movies that are similar to it\n",
    "    cosine_similarities = similarity_coefficients.loc[target_movie][similar_movies_that_were_rated_by_user.index]\n",
    "    \n",
    "    # Target users ratings of movies that are similar to target movie\n",
    "    ratings_for_similar_movies = ratings.loc[target_user][similar_movies_that_were_rated_by_user.index]\n",
    "    \n",
    "    # Calculate the numerator part of formula 2.15\n",
    "    # Basically, numerator is calculated by multiplying similarities coefficients and users rating for similar movies\n",
    "    # You can think of it as saying - multiply how similar the target movie is and how user rated the movie similar\n",
    "    # to it, and then sum up all those results\n",
    "    numerator = sum(cosine_similarities * ratings_for_similar_movies)\n",
    "    \n",
    "    # Denominator is just the sum of similarity coefficients\n",
    "    denominator = sum(cosine_similarities)\n",
    "\n",
    "    return numerator / denominator"
   ]
  },
  {
   "cell_type": "markdown",
   "metadata": {},
   "source": [
    "As can be seen, the rating of specific movie for specific user is predicted by finding the similar movies first, then filtering out and leaving only ones that were already rated by target user. Finally, the rating is predicted by multiplying similarity coefficients and predicted ratings and dividing that by sum of similarity coefficients.\n",
    "\n",
    "Again, this matches the formula 2.15 from the book. I honestly have no clue if there is some universal name for this formula, so I'll refer to it as \"rating prediction formula\".\n",
    "\n",
    "What the book claims is that the rating for user 3 for movie 1 should be `3` and for movie 6 should be `1`. Let's try that out:"
   ]
  },
  {
   "cell_type": "code",
   "execution_count": 17,
   "metadata": {},
   "outputs": [
    {
     "data": {
      "text/plain": [
       "3.0000000000000004"
      ]
     },
     "execution_count": 17,
     "metadata": {},
     "output_type": "execute_result"
    }
   ],
   "source": [
    "predict_rating(3, 'm_1')"
   ]
  },
  {
   "cell_type": "code",
   "execution_count": 18,
   "metadata": {},
   "outputs": [
    {
     "data": {
      "text/plain": [
       "1.0"
      ]
     },
     "execution_count": 18,
     "metadata": {},
     "output_type": "execute_result"
    }
   ],
   "source": [
    "predict_rating(3, 'm_6')"
   ]
  },
  {
   "cell_type": "markdown",
   "metadata": {},
   "source": [
    "Perfect! Seems to match exactly to what the book says :)\n",
    "\n",
    "So, how do we implement the full recommender system now? Well, it's actually rather easy. For each user, we calculate the top-k movies that have highest predicted rating and we report those to user as \"suggested\" movies. One cool benefit of the Item-based approach is that we can also explain WHY is something predicted (e.g. you might like movie X because you liked movie Y).\n",
    "\n",
    "From my understanding, these calculations of similar movies are usually precalculated upfront (i.e. in the background). I would assume that service providers (e.g. Netflix) usually precalculate and cache the top-100 recommended movies and then use those cached results for recommendations. But, again, that's just my layman assumption.\n",
    "\n",
    "Anyway, let's implement the actual recommender system."
   ]
  },
  {
   "cell_type": "code",
   "execution_count": 29,
   "metadata": {},
   "outputs": [
    {
     "data": {
      "text/plain": [
       "Index(['m_1', 'm_6'], dtype='object')"
      ]
     },
     "execution_count": 29,
     "metadata": {},
     "output_type": "execute_result"
    }
   ],
   "source": [
    "ratings.loc[3][ratings.loc[3].isna()].index"
   ]
  },
  {
   "cell_type": "code",
   "execution_count": 65,
   "metadata": {},
   "outputs": [],
   "source": [
    "import operator\n",
    "\n",
    "def recommend_movies(target_user, k = 3):\n",
    "    '''Recommends top-k movies to target user'''\n",
    "    \n",
    "    # First - let's see which user didn't rate yet\n",
    "    is_unrated = ratings.loc[target_user].isna()\n",
    "    \n",
    "    unrated_movies = ratings.loc[target_user][is_unrated].index\n",
    "    \n",
    "    if len(unrated_movies) == 0:\n",
    "        # Well, seems like there's nothing we can recommend as user watched all movies we have\n",
    "        return []\n",
    "    \n",
    "    predicted_ratings = {}\n",
    "    \n",
    "    # Predict rating for each unrated movie\n",
    "    for movie in unrated_movies:\n",
    "        predicted_ratings[movie] = predict_rating(target_user, movie)\n",
    "        \n",
    "    # Sort the dictionary by values and return keys (movie IDs)\n",
    "    sorted_predicted_ratings = sorted(predicted_ratings.items(), key=operator.itemgetter(1), reverse=True)\n",
    "    \n",
    "    positively_predicted = []\n",
    "    \n",
    "    for row in sorted_predicted_ratings:\n",
    "        movie_id = row[0]\n",
    "        predicted_rating = row[1]\n",
    "        \n",
    "        if predicted_rating >= 3:\n",
    "            positively_predicted.append(movie_id)\n",
    "    \n",
    "    return positively_predicted[:k]"
   ]
  },
  {
   "cell_type": "markdown",
   "metadata": {},
   "source": [
    "Finally, let's see which movies are predicted for user 3. Based on the previously seen data, the only movie that has positive predicted rating is movie 1."
   ]
  },
  {
   "cell_type": "code",
   "execution_count": 66,
   "metadata": {
    "scrolled": true
   },
   "outputs": [
    {
     "data": {
      "text/plain": [
       "['m_1']"
      ]
     },
     "execution_count": 66,
     "metadata": {},
     "output_type": "execute_result"
    }
   ],
   "source": [
    "recommend_movies(3)"
   ]
  },
  {
   "cell_type": "markdown",
   "metadata": {},
   "source": [
    "And that's exactly what we've got. Movie 1 seems to be only movie predicted for user 3."
   ]
  },
  {
   "cell_type": "code",
   "execution_count": 67,
   "metadata": {},
   "outputs": [
    {
     "data": {
      "text/plain": [
       "[]"
      ]
     },
     "execution_count": 67,
     "metadata": {},
     "output_type": "execute_result"
    }
   ],
   "source": [
    "recommend_movies(1)"
   ]
  },
  {
   "cell_type": "markdown",
   "metadata": {},
   "source": [
    "No movies predicted for user 1 because he seems to have watched all movies.\n",
    "\n",
    "Finally, let's see what happens when we introduce a new movie to the matrix. This movie wasn't rated by anyone so far."
   ]
  },
  {
   "cell_type": "code",
   "execution_count": 71,
   "metadata": {},
   "outputs": [
    {
     "data": {
      "text/html": [
       "<div>\n",
       "<style scoped>\n",
       "    .dataframe tbody tr th:only-of-type {\n",
       "        vertical-align: middle;\n",
       "    }\n",
       "\n",
       "    .dataframe tbody tr th {\n",
       "        vertical-align: top;\n",
       "    }\n",
       "\n",
       "    .dataframe thead th {\n",
       "        text-align: right;\n",
       "    }\n",
       "</style>\n",
       "<table border=\"1\" class=\"dataframe\">\n",
       "  <thead>\n",
       "    <tr style=\"text-align: right;\">\n",
       "      <th></th>\n",
       "      <th>m_1</th>\n",
       "      <th>m_2</th>\n",
       "      <th>m_3</th>\n",
       "      <th>m_4</th>\n",
       "      <th>m_5</th>\n",
       "      <th>m_6</th>\n",
       "      <th>m_7</th>\n",
       "    </tr>\n",
       "    <tr>\n",
       "      <th>userId</th>\n",
       "      <th></th>\n",
       "      <th></th>\n",
       "      <th></th>\n",
       "      <th></th>\n",
       "      <th></th>\n",
       "      <th></th>\n",
       "      <th></th>\n",
       "    </tr>\n",
       "  </thead>\n",
       "  <tbody>\n",
       "    <tr>\n",
       "      <td>1</td>\n",
       "      <td>7.0</td>\n",
       "      <td>6.0</td>\n",
       "      <td>7.0</td>\n",
       "      <td>4</td>\n",
       "      <td>5</td>\n",
       "      <td>4.0</td>\n",
       "      <td>NaN</td>\n",
       "    </tr>\n",
       "    <tr>\n",
       "      <td>2</td>\n",
       "      <td>6.0</td>\n",
       "      <td>7.0</td>\n",
       "      <td>NaN</td>\n",
       "      <td>4</td>\n",
       "      <td>3</td>\n",
       "      <td>4.0</td>\n",
       "      <td>NaN</td>\n",
       "    </tr>\n",
       "    <tr>\n",
       "      <td>3</td>\n",
       "      <td>NaN</td>\n",
       "      <td>3.0</td>\n",
       "      <td>3.0</td>\n",
       "      <td>1</td>\n",
       "      <td>1</td>\n",
       "      <td>NaN</td>\n",
       "      <td>NaN</td>\n",
       "    </tr>\n",
       "    <tr>\n",
       "      <td>4</td>\n",
       "      <td>1.0</td>\n",
       "      <td>2.0</td>\n",
       "      <td>2.0</td>\n",
       "      <td>3</td>\n",
       "      <td>3</td>\n",
       "      <td>4.0</td>\n",
       "      <td>NaN</td>\n",
       "    </tr>\n",
       "    <tr>\n",
       "      <td>5</td>\n",
       "      <td>1.0</td>\n",
       "      <td>NaN</td>\n",
       "      <td>1.0</td>\n",
       "      <td>2</td>\n",
       "      <td>3</td>\n",
       "      <td>3.0</td>\n",
       "      <td>NaN</td>\n",
       "    </tr>\n",
       "  </tbody>\n",
       "</table>\n",
       "</div>"
      ],
      "text/plain": [
       "        m_1  m_2  m_3  m_4  m_5  m_6  m_7\n",
       "userId                                   \n",
       "1       7.0  6.0  7.0    4    5  4.0  NaN\n",
       "2       6.0  7.0  NaN    4    3  4.0  NaN\n",
       "3       NaN  3.0  3.0    1    1  NaN  NaN\n",
       "4       1.0  2.0  2.0    3    3  4.0  NaN\n",
       "5       1.0  NaN  1.0    2    3  3.0  NaN"
      ]
     },
     "execution_count": 71,
     "metadata": {},
     "output_type": "execute_result"
    }
   ],
   "source": [
    "ratings['m_7'] = np.nan\n",
    "ratings"
   ]
  },
  {
   "cell_type": "markdown",
   "metadata": {},
   "source": [
    "We need to append it to normalized_ratings matrix as well. Since all values are NaN, we can just insert it with value of 0."
   ]
  },
  {
   "cell_type": "code",
   "execution_count": 77,
   "metadata": {},
   "outputs": [
    {
     "data": {
      "text/html": [
       "<div>\n",
       "<style scoped>\n",
       "    .dataframe tbody tr th:only-of-type {\n",
       "        vertical-align: middle;\n",
       "    }\n",
       "\n",
       "    .dataframe tbody tr th {\n",
       "        vertical-align: top;\n",
       "    }\n",
       "\n",
       "    .dataframe thead th {\n",
       "        text-align: right;\n",
       "    }\n",
       "</style>\n",
       "<table border=\"1\" class=\"dataframe\">\n",
       "  <thead>\n",
       "    <tr style=\"text-align: right;\">\n",
       "      <th></th>\n",
       "      <th>m_1</th>\n",
       "      <th>m_2</th>\n",
       "      <th>m_3</th>\n",
       "      <th>m_4</th>\n",
       "      <th>m_5</th>\n",
       "      <th>m_6</th>\n",
       "      <th>m_7</th>\n",
       "    </tr>\n",
       "    <tr>\n",
       "      <th>userId</th>\n",
       "      <th></th>\n",
       "      <th></th>\n",
       "      <th></th>\n",
       "      <th></th>\n",
       "      <th></th>\n",
       "      <th></th>\n",
       "      <th></th>\n",
       "    </tr>\n",
       "  </thead>\n",
       "  <tbody>\n",
       "    <tr>\n",
       "      <td>1</td>\n",
       "      <td>1.5</td>\n",
       "      <td>0.5</td>\n",
       "      <td>1.5</td>\n",
       "      <td>-1.5</td>\n",
       "      <td>-0.5</td>\n",
       "      <td>-1.5</td>\n",
       "      <td>0</td>\n",
       "    </tr>\n",
       "    <tr>\n",
       "      <td>2</td>\n",
       "      <td>1.2</td>\n",
       "      <td>2.2</td>\n",
       "      <td>0.0</td>\n",
       "      <td>-0.8</td>\n",
       "      <td>-1.8</td>\n",
       "      <td>-0.8</td>\n",
       "      <td>0</td>\n",
       "    </tr>\n",
       "    <tr>\n",
       "      <td>3</td>\n",
       "      <td>0.0</td>\n",
       "      <td>1.0</td>\n",
       "      <td>1.0</td>\n",
       "      <td>-1.0</td>\n",
       "      <td>-1.0</td>\n",
       "      <td>0.0</td>\n",
       "      <td>0</td>\n",
       "    </tr>\n",
       "    <tr>\n",
       "      <td>4</td>\n",
       "      <td>-1.5</td>\n",
       "      <td>-0.5</td>\n",
       "      <td>-0.5</td>\n",
       "      <td>0.5</td>\n",
       "      <td>0.5</td>\n",
       "      <td>1.5</td>\n",
       "      <td>0</td>\n",
       "    </tr>\n",
       "    <tr>\n",
       "      <td>5</td>\n",
       "      <td>-1.0</td>\n",
       "      <td>0.0</td>\n",
       "      <td>-1.0</td>\n",
       "      <td>0.0</td>\n",
       "      <td>1.0</td>\n",
       "      <td>1.0</td>\n",
       "      <td>0</td>\n",
       "    </tr>\n",
       "  </tbody>\n",
       "</table>\n",
       "</div>"
      ],
      "text/plain": [
       "        m_1  m_2  m_3  m_4  m_5  m_6  m_7\n",
       "userId                                   \n",
       "1       1.5  0.5  1.5 -1.5 -0.5 -1.5    0\n",
       "2       1.2  2.2  0.0 -0.8 -1.8 -0.8    0\n",
       "3       0.0  1.0  1.0 -1.0 -1.0  0.0    0\n",
       "4      -1.5 -0.5 -0.5  0.5  0.5  1.5    0\n",
       "5      -1.0  0.0 -1.0  0.0  1.0  1.0    0"
      ]
     },
     "execution_count": 77,
     "metadata": {},
     "output_type": "execute_result"
    }
   ],
   "source": [
    "normalized_ratings['m_7'] = 0\n",
    "normalized_ratings"
   ]
  },
  {
   "cell_type": "markdown",
   "metadata": {},
   "source": [
    "Let's recalculate the similarity coefficients now."
   ]
  },
  {
   "cell_type": "code",
   "execution_count": 80,
   "metadata": {},
   "outputs": [
    {
     "data": {
      "text/html": [
       "<div>\n",
       "<style scoped>\n",
       "    .dataframe tbody tr th:only-of-type {\n",
       "        vertical-align: middle;\n",
       "    }\n",
       "\n",
       "    .dataframe tbody tr th {\n",
       "        vertical-align: top;\n",
       "    }\n",
       "\n",
       "    .dataframe thead th {\n",
       "        text-align: right;\n",
       "    }\n",
       "</style>\n",
       "<table border=\"1\" class=\"dataframe\">\n",
       "  <thead>\n",
       "    <tr style=\"text-align: right;\">\n",
       "      <th></th>\n",
       "      <th>m_1</th>\n",
       "      <th>m_2</th>\n",
       "      <th>m_3</th>\n",
       "      <th>m_4</th>\n",
       "      <th>m_5</th>\n",
       "      <th>m_6</th>\n",
       "      <th>m_7</th>\n",
       "    </tr>\n",
       "  </thead>\n",
       "  <tbody>\n",
       "    <tr>\n",
       "      <td>m_1</td>\n",
       "      <td>1.000000</td>\n",
       "      <td>0.624131</td>\n",
       "      <td>0.715771</td>\n",
       "      <td>-0.738780</td>\n",
       "      <td>-0.738330</td>\n",
       "      <td>-0.989620</td>\n",
       "      <td>0.0</td>\n",
       "    </tr>\n",
       "    <tr>\n",
       "      <td>m_2</td>\n",
       "      <td>0.624131</td>\n",
       "      <td>1.000000</td>\n",
       "      <td>0.374437</td>\n",
       "      <td>-0.733910</td>\n",
       "      <td>-0.905091</td>\n",
       "      <td>-0.522503</td>\n",
       "      <td>0.0</td>\n",
       "    </tr>\n",
       "    <tr>\n",
       "      <td>m_3</td>\n",
       "      <td>0.715771</td>\n",
       "      <td>0.374437</td>\n",
       "      <td>1.000000</td>\n",
       "      <td>-0.810889</td>\n",
       "      <td>-0.590281</td>\n",
       "      <td>-0.760974</td>\n",
       "      <td>0.0</td>\n",
       "    </tr>\n",
       "    <tr>\n",
       "      <td>m_4</td>\n",
       "      <td>-0.738780</td>\n",
       "      <td>-0.733910</td>\n",
       "      <td>-0.810889</td>\n",
       "      <td>1.000000</td>\n",
       "      <td>0.705671</td>\n",
       "      <td>0.721966</td>\n",
       "      <td>0.0</td>\n",
       "    </tr>\n",
       "    <tr>\n",
       "      <td>m_5</td>\n",
       "      <td>-0.738330</td>\n",
       "      <td>-0.905091</td>\n",
       "      <td>-0.590281</td>\n",
       "      <td>0.705671</td>\n",
       "      <td>1.000000</td>\n",
       "      <td>0.663676</td>\n",
       "      <td>0.0</td>\n",
       "    </tr>\n",
       "    <tr>\n",
       "      <td>m_6</td>\n",
       "      <td>-0.989620</td>\n",
       "      <td>-0.522503</td>\n",
       "      <td>-0.760974</td>\n",
       "      <td>0.721966</td>\n",
       "      <td>0.663676</td>\n",
       "      <td>1.000000</td>\n",
       "      <td>0.0</td>\n",
       "    </tr>\n",
       "    <tr>\n",
       "      <td>m_7</td>\n",
       "      <td>0.000000</td>\n",
       "      <td>0.000000</td>\n",
       "      <td>0.000000</td>\n",
       "      <td>0.000000</td>\n",
       "      <td>0.000000</td>\n",
       "      <td>0.000000</td>\n",
       "      <td>0.0</td>\n",
       "    </tr>\n",
       "  </tbody>\n",
       "</table>\n",
       "</div>"
      ],
      "text/plain": [
       "          m_1       m_2       m_3       m_4       m_5       m_6  m_7\n",
       "m_1  1.000000  0.624131  0.715771 -0.738780 -0.738330 -0.989620  0.0\n",
       "m_2  0.624131  1.000000  0.374437 -0.733910 -0.905091 -0.522503  0.0\n",
       "m_3  0.715771  0.374437  1.000000 -0.810889 -0.590281 -0.760974  0.0\n",
       "m_4 -0.738780 -0.733910 -0.810889  1.000000  0.705671  0.721966  0.0\n",
       "m_5 -0.738330 -0.905091 -0.590281  0.705671  1.000000  0.663676  0.0\n",
       "m_6 -0.989620 -0.522503 -0.760974  0.721966  0.663676  1.000000  0.0\n",
       "m_7  0.000000  0.000000  0.000000  0.000000  0.000000  0.000000  0.0"
      ]
     },
     "execution_count": 80,
     "metadata": {},
     "output_type": "execute_result"
    }
   ],
   "source": [
    "similarity_coefficients = cosine_similarity(normalized_ratings.T)\n",
    "\n",
    "similarity_coefficients = pd.DataFrame(index=normalized_ratings.columns, columns=normalized_ratings.columns, data=similarity_coefficients)\n",
    "\n",
    "similarity_coefficients"
   ]
  },
  {
   "cell_type": "code",
   "execution_count": 81,
   "metadata": {},
   "outputs": [
    {
     "data": {
      "text/plain": [
       "Series([], Name: m_7, dtype: float64)"
      ]
     },
     "execution_count": 81,
     "metadata": {},
     "output_type": "execute_result"
    }
   ],
   "source": [
    "get_similar_movies('m_7')"
   ]
  },
  {
   "cell_type": "markdown",
   "metadata": {},
   "source": [
    "Well, that's exactly the problem that Collaborative filtering suffers from - cold start. Since this movie does not have ratings (because, it's new one) it will never be predicted to anyone.\n",
    "\n",
    "Solving this is a topic on it's own, but I'll leave you here to theoretize and eventually come up with your own solution.\n",
    "\n",
    "Cheers!"
   ]
  },
  {
   "cell_type": "code",
   "execution_count": null,
   "metadata": {},
   "outputs": [],
   "source": []
  }
 ],
 "metadata": {
  "kernelspec": {
   "display_name": "Python 3",
   "language": "python",
   "name": "python3"
  },
  "language_info": {
   "codemirror_mode": {
    "name": "ipython",
    "version": 3
   },
   "file_extension": ".py",
   "mimetype": "text/x-python",
   "name": "python",
   "nbconvert_exporter": "python",
   "pygments_lexer": "ipython3",
   "version": "3.7.3"
  }
 },
 "nbformat": 4,
 "nbformat_minor": 2
}
