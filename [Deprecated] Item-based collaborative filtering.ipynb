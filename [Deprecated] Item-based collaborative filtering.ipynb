{
 "cells": [
  {
   "cell_type": "code",
   "execution_count": 10,
   "metadata": {},
   "outputs": [],
   "source": [
    "import numpy as np\n",
    "import pandas as pd\n",
    "import seaborn as sns\n",
    "import matplotlib.pyplot as plt\n",
    "from math import sqrt, ceil\n",
    "import math\n",
    "from sklearn.metrics.pairwise import cosine_similarity\n",
    "\n",
    "%matplotlib inline\n",
    "%config Completer.use_jedi = False"
   ]
  },
  {
   "cell_type": "markdown",
   "metadata": {},
   "source": [
    "In this notebook, we're going to do a quick evaluation of Item-based collabortive filtering techniques.\n",
    "\n",
    "The idea is to predict the rating for item based on ratings for similar items."
   ]
  },
  {
   "cell_type": "code",
   "execution_count": 3,
   "metadata": {},
   "outputs": [],
   "source": [
    "# Recreate the data from the book\n",
    "\n",
    "data = [\n",
    "    [1, 7, 6, 7, 4, 5, 4],\n",
    "    [2, 6, 7, np.NaN, 4, 3, 4],\n",
    "    [3, np.NaN, 3, 3, 1, 1, np.NaN],\n",
    "    [4, 1, 2, 2, 3, 3, 4],\n",
    "    [5, 1, np.NaN, 1, 2, 3, 3]\n",
    "]"
   ]
  },
  {
   "cell_type": "code",
   "execution_count": 4,
   "metadata": {},
   "outputs": [
    {
     "data": {
      "text/html": [
       "<div>\n",
       "<style scoped>\n",
       "    .dataframe tbody tr th:only-of-type {\n",
       "        vertical-align: middle;\n",
       "    }\n",
       "\n",
       "    .dataframe tbody tr th {\n",
       "        vertical-align: top;\n",
       "    }\n",
       "\n",
       "    .dataframe thead th {\n",
       "        text-align: right;\n",
       "    }\n",
       "</style>\n",
       "<table border=\"1\" class=\"dataframe\">\n",
       "  <thead>\n",
       "    <tr style=\"text-align: right;\">\n",
       "      <th></th>\n",
       "      <th>m_1</th>\n",
       "      <th>m_2</th>\n",
       "      <th>m_3</th>\n",
       "      <th>m_4</th>\n",
       "      <th>m_5</th>\n",
       "      <th>m_6</th>\n",
       "    </tr>\n",
       "    <tr>\n",
       "      <th>userId</th>\n",
       "      <th></th>\n",
       "      <th></th>\n",
       "      <th></th>\n",
       "      <th></th>\n",
       "      <th></th>\n",
       "      <th></th>\n",
       "    </tr>\n",
       "  </thead>\n",
       "  <tbody>\n",
       "    <tr>\n",
       "      <td>1</td>\n",
       "      <td>7.0</td>\n",
       "      <td>6.0</td>\n",
       "      <td>7.0</td>\n",
       "      <td>4</td>\n",
       "      <td>5</td>\n",
       "      <td>4.0</td>\n",
       "    </tr>\n",
       "    <tr>\n",
       "      <td>2</td>\n",
       "      <td>6.0</td>\n",
       "      <td>7.0</td>\n",
       "      <td>NaN</td>\n",
       "      <td>4</td>\n",
       "      <td>3</td>\n",
       "      <td>4.0</td>\n",
       "    </tr>\n",
       "    <tr>\n",
       "      <td>3</td>\n",
       "      <td>NaN</td>\n",
       "      <td>3.0</td>\n",
       "      <td>3.0</td>\n",
       "      <td>1</td>\n",
       "      <td>1</td>\n",
       "      <td>NaN</td>\n",
       "    </tr>\n",
       "    <tr>\n",
       "      <td>4</td>\n",
       "      <td>1.0</td>\n",
       "      <td>2.0</td>\n",
       "      <td>2.0</td>\n",
       "      <td>3</td>\n",
       "      <td>3</td>\n",
       "      <td>4.0</td>\n",
       "    </tr>\n",
       "    <tr>\n",
       "      <td>5</td>\n",
       "      <td>1.0</td>\n",
       "      <td>NaN</td>\n",
       "      <td>1.0</td>\n",
       "      <td>2</td>\n",
       "      <td>3</td>\n",
       "      <td>3.0</td>\n",
       "    </tr>\n",
       "  </tbody>\n",
       "</table>\n",
       "</div>"
      ],
      "text/plain": [
       "        m_1  m_2  m_3  m_4  m_5  m_6\n",
       "userId                              \n",
       "1       7.0  6.0  7.0    4    5  4.0\n",
       "2       6.0  7.0  NaN    4    3  4.0\n",
       "3       NaN  3.0  3.0    1    1  NaN\n",
       "4       1.0  2.0  2.0    3    3  4.0\n",
       "5       1.0  NaN  1.0    2    3  3.0"
      ]
     },
     "execution_count": 4,
     "metadata": {},
     "output_type": "execute_result"
    }
   ],
   "source": [
    "ratings = pd.DataFrame(data, columns=['userId', 'm_1', 'm_2', 'm_3', 'm_4', 'm_5', 'm_6'])\n",
    "ratings = ratings.set_index('userId')\n",
    "ratings"
   ]
  },
  {
   "cell_type": "code",
   "execution_count": 7,
   "metadata": {},
   "outputs": [
    {
     "data": {
      "text/html": [
       "<div>\n",
       "<style scoped>\n",
       "    .dataframe tbody tr th:only-of-type {\n",
       "        vertical-align: middle;\n",
       "    }\n",
       "\n",
       "    .dataframe tbody tr th {\n",
       "        vertical-align: top;\n",
       "    }\n",
       "\n",
       "    .dataframe thead th {\n",
       "        text-align: right;\n",
       "    }\n",
       "</style>\n",
       "<table border=\"1\" class=\"dataframe\">\n",
       "  <thead>\n",
       "    <tr style=\"text-align: right;\">\n",
       "      <th></th>\n",
       "      <th>m_1</th>\n",
       "      <th>m_2</th>\n",
       "      <th>m_3</th>\n",
       "      <th>m_4</th>\n",
       "      <th>m_5</th>\n",
       "      <th>m_6</th>\n",
       "    </tr>\n",
       "    <tr>\n",
       "      <th>userId</th>\n",
       "      <th></th>\n",
       "      <th></th>\n",
       "      <th></th>\n",
       "      <th></th>\n",
       "      <th></th>\n",
       "      <th></th>\n",
       "    </tr>\n",
       "  </thead>\n",
       "  <tbody>\n",
       "    <tr>\n",
       "      <td>1</td>\n",
       "      <td>1.5</td>\n",
       "      <td>0.5</td>\n",
       "      <td>1.5</td>\n",
       "      <td>-1.5</td>\n",
       "      <td>-0.5</td>\n",
       "      <td>-1.5</td>\n",
       "    </tr>\n",
       "    <tr>\n",
       "      <td>2</td>\n",
       "      <td>1.2</td>\n",
       "      <td>2.2</td>\n",
       "      <td>NaN</td>\n",
       "      <td>-0.8</td>\n",
       "      <td>-1.8</td>\n",
       "      <td>-0.8</td>\n",
       "    </tr>\n",
       "    <tr>\n",
       "      <td>3</td>\n",
       "      <td>NaN</td>\n",
       "      <td>1.0</td>\n",
       "      <td>1.0</td>\n",
       "      <td>-1.0</td>\n",
       "      <td>-1.0</td>\n",
       "      <td>NaN</td>\n",
       "    </tr>\n",
       "    <tr>\n",
       "      <td>4</td>\n",
       "      <td>-1.5</td>\n",
       "      <td>-0.5</td>\n",
       "      <td>-0.5</td>\n",
       "      <td>0.5</td>\n",
       "      <td>0.5</td>\n",
       "      <td>1.5</td>\n",
       "    </tr>\n",
       "    <tr>\n",
       "      <td>5</td>\n",
       "      <td>-1.0</td>\n",
       "      <td>NaN</td>\n",
       "      <td>-1.0</td>\n",
       "      <td>0.0</td>\n",
       "      <td>1.0</td>\n",
       "      <td>1.0</td>\n",
       "    </tr>\n",
       "  </tbody>\n",
       "</table>\n",
       "</div>"
      ],
      "text/plain": [
       "        m_1  m_2  m_3  m_4  m_5  m_6\n",
       "userId                              \n",
       "1       1.5  0.5  1.5 -1.5 -0.5 -1.5\n",
       "2       1.2  2.2  NaN -0.8 -1.8 -0.8\n",
       "3       NaN  1.0  1.0 -1.0 -1.0  NaN\n",
       "4      -1.5 -0.5 -0.5  0.5  0.5  1.5\n",
       "5      -1.0  NaN -1.0  0.0  1.0  1.0"
      ]
     },
     "execution_count": 7,
     "metadata": {},
     "output_type": "execute_result"
    }
   ],
   "source": [
    "normalized_ratings = ratings.apply(lambda x: x - x.mean(), axis=1)\n",
    "normalized_ratings"
   ]
  },
  {
   "cell_type": "code",
   "execution_count": 8,
   "metadata": {},
   "outputs": [
    {
     "data": {
      "text/html": [
       "<div>\n",
       "<style scoped>\n",
       "    .dataframe tbody tr th:only-of-type {\n",
       "        vertical-align: middle;\n",
       "    }\n",
       "\n",
       "    .dataframe tbody tr th {\n",
       "        vertical-align: top;\n",
       "    }\n",
       "\n",
       "    .dataframe thead th {\n",
       "        text-align: right;\n",
       "    }\n",
       "</style>\n",
       "<table border=\"1\" class=\"dataframe\">\n",
       "  <thead>\n",
       "    <tr style=\"text-align: right;\">\n",
       "      <th></th>\n",
       "      <th>m_1</th>\n",
       "      <th>m_2</th>\n",
       "      <th>m_3</th>\n",
       "      <th>m_4</th>\n",
       "      <th>m_5</th>\n",
       "      <th>m_6</th>\n",
       "    </tr>\n",
       "    <tr>\n",
       "      <th>userId</th>\n",
       "      <th></th>\n",
       "      <th></th>\n",
       "      <th></th>\n",
       "      <th></th>\n",
       "      <th></th>\n",
       "      <th></th>\n",
       "    </tr>\n",
       "  </thead>\n",
       "  <tbody>\n",
       "    <tr>\n",
       "      <td>1</td>\n",
       "      <td>1.5</td>\n",
       "      <td>0.5</td>\n",
       "      <td>1.5</td>\n",
       "      <td>-1.5</td>\n",
       "      <td>-0.5</td>\n",
       "      <td>-1.5</td>\n",
       "    </tr>\n",
       "    <tr>\n",
       "      <td>2</td>\n",
       "      <td>1.2</td>\n",
       "      <td>2.2</td>\n",
       "      <td>0.0</td>\n",
       "      <td>-0.8</td>\n",
       "      <td>-1.8</td>\n",
       "      <td>-0.8</td>\n",
       "    </tr>\n",
       "    <tr>\n",
       "      <td>3</td>\n",
       "      <td>0.0</td>\n",
       "      <td>1.0</td>\n",
       "      <td>1.0</td>\n",
       "      <td>-1.0</td>\n",
       "      <td>-1.0</td>\n",
       "      <td>0.0</td>\n",
       "    </tr>\n",
       "    <tr>\n",
       "      <td>4</td>\n",
       "      <td>-1.5</td>\n",
       "      <td>-0.5</td>\n",
       "      <td>-0.5</td>\n",
       "      <td>0.5</td>\n",
       "      <td>0.5</td>\n",
       "      <td>1.5</td>\n",
       "    </tr>\n",
       "    <tr>\n",
       "      <td>5</td>\n",
       "      <td>-1.0</td>\n",
       "      <td>0.0</td>\n",
       "      <td>-1.0</td>\n",
       "      <td>0.0</td>\n",
       "      <td>1.0</td>\n",
       "      <td>1.0</td>\n",
       "    </tr>\n",
       "  </tbody>\n",
       "</table>\n",
       "</div>"
      ],
      "text/plain": [
       "        m_1  m_2  m_3  m_4  m_5  m_6\n",
       "userId                              \n",
       "1       1.5  0.5  1.5 -1.5 -0.5 -1.5\n",
       "2       1.2  2.2  0.0 -0.8 -1.8 -0.8\n",
       "3       0.0  1.0  1.0 -1.0 -1.0  0.0\n",
       "4      -1.5 -0.5 -0.5  0.5  0.5  1.5\n",
       "5      -1.0  0.0 -1.0  0.0  1.0  1.0"
      ]
     },
     "execution_count": 8,
     "metadata": {},
     "output_type": "execute_result"
    }
   ],
   "source": [
    "normalized_ratings = normalized_ratings.fillna(0)\n",
    "normalized_ratings"
   ]
  },
  {
   "cell_type": "code",
   "execution_count": 16,
   "metadata": {},
   "outputs": [
    {
     "data": {
      "text/plain": [
       "array([[ 1.        ,  0.62413132,  0.71577084, -0.73878026, -0.73832952],\n",
       "       [ 0.62413132,  1.        ,  0.3744373 , -0.73391041, -0.90509063],\n",
       "       [ 0.71577084,  0.3744373 ,  1.        , -0.81088939, -0.59028134],\n",
       "       [-0.73878026, -0.73391041, -0.81088939,  1.        ,  0.70567109],\n",
       "       [-0.73832952, -0.90509063, -0.59028134,  0.70567109,  1.        ],\n",
       "       [-0.9896203 , -0.522503  , -0.76097353,  0.72196647,  0.66367597]])"
      ]
     },
     "execution_count": 16,
     "metadata": {},
     "output_type": "execute_result"
    }
   ],
   "source": [
    "# Calculate similarity coefficients between items\n",
    "similarity_coefficients = cosine_similarity(normalized_ratings.T) # Transpose as we want Movies to become rows\n",
    "similarity_coefficients[:, :5]"
   ]
  },
  {
   "cell_type": "code",
   "execution_count": 17,
   "metadata": {},
   "outputs": [
    {
     "data": {
      "text/html": [
       "<div>\n",
       "<style scoped>\n",
       "    .dataframe tbody tr th:only-of-type {\n",
       "        vertical-align: middle;\n",
       "    }\n",
       "\n",
       "    .dataframe tbody tr th {\n",
       "        vertical-align: top;\n",
       "    }\n",
       "\n",
       "    .dataframe thead th {\n",
       "        text-align: right;\n",
       "    }\n",
       "</style>\n",
       "<table border=\"1\" class=\"dataframe\">\n",
       "  <thead>\n",
       "    <tr style=\"text-align: right;\">\n",
       "      <th></th>\n",
       "      <th>m_1</th>\n",
       "      <th>m_2</th>\n",
       "      <th>m_3</th>\n",
       "      <th>m_4</th>\n",
       "      <th>m_5</th>\n",
       "      <th>m_6</th>\n",
       "    </tr>\n",
       "  </thead>\n",
       "  <tbody>\n",
       "    <tr>\n",
       "      <td>m_1</td>\n",
       "      <td>1.000000</td>\n",
       "      <td>0.624131</td>\n",
       "      <td>0.715771</td>\n",
       "      <td>-0.738780</td>\n",
       "      <td>-0.738330</td>\n",
       "      <td>-0.989620</td>\n",
       "    </tr>\n",
       "    <tr>\n",
       "      <td>m_2</td>\n",
       "      <td>0.624131</td>\n",
       "      <td>1.000000</td>\n",
       "      <td>0.374437</td>\n",
       "      <td>-0.733910</td>\n",
       "      <td>-0.905091</td>\n",
       "      <td>-0.522503</td>\n",
       "    </tr>\n",
       "    <tr>\n",
       "      <td>m_3</td>\n",
       "      <td>0.715771</td>\n",
       "      <td>0.374437</td>\n",
       "      <td>1.000000</td>\n",
       "      <td>-0.810889</td>\n",
       "      <td>-0.590281</td>\n",
       "      <td>-0.760974</td>\n",
       "    </tr>\n",
       "    <tr>\n",
       "      <td>m_4</td>\n",
       "      <td>-0.738780</td>\n",
       "      <td>-0.733910</td>\n",
       "      <td>-0.810889</td>\n",
       "      <td>1.000000</td>\n",
       "      <td>0.705671</td>\n",
       "      <td>0.721966</td>\n",
       "    </tr>\n",
       "    <tr>\n",
       "      <td>m_5</td>\n",
       "      <td>-0.738330</td>\n",
       "      <td>-0.905091</td>\n",
       "      <td>-0.590281</td>\n",
       "      <td>0.705671</td>\n",
       "      <td>1.000000</td>\n",
       "      <td>0.663676</td>\n",
       "    </tr>\n",
       "    <tr>\n",
       "      <td>m_6</td>\n",
       "      <td>-0.989620</td>\n",
       "      <td>-0.522503</td>\n",
       "      <td>-0.760974</td>\n",
       "      <td>0.721966</td>\n",
       "      <td>0.663676</td>\n",
       "      <td>1.000000</td>\n",
       "    </tr>\n",
       "  </tbody>\n",
       "</table>\n",
       "</div>"
      ],
      "text/plain": [
       "          m_1       m_2       m_3       m_4       m_5       m_6\n",
       "m_1  1.000000  0.624131  0.715771 -0.738780 -0.738330 -0.989620\n",
       "m_2  0.624131  1.000000  0.374437 -0.733910 -0.905091 -0.522503\n",
       "m_3  0.715771  0.374437  1.000000 -0.810889 -0.590281 -0.760974\n",
       "m_4 -0.738780 -0.733910 -0.810889  1.000000  0.705671  0.721966\n",
       "m_5 -0.738330 -0.905091 -0.590281  0.705671  1.000000  0.663676\n",
       "m_6 -0.989620 -0.522503 -0.760974  0.721966  0.663676  1.000000"
      ]
     },
     "execution_count": 17,
     "metadata": {},
     "output_type": "execute_result"
    }
   ],
   "source": [
    "# Convert similarity coefficients to DataFrame for easier searching\n",
    "similarity_coefficients = pd.DataFrame(index=normalized_ratings.columns, columns=normalized_ratings.columns, data=similarity_coefficients)\n",
    "similarity_coefficients"
   ]
  },
  {
   "cell_type": "code",
   "execution_count": 32,
   "metadata": {},
   "outputs": [
    {
     "data": {
      "text/plain": [
       "m_3    0.715771\n",
       "m_2    0.624131\n",
       "m_5   -0.738330\n",
       "m_4   -0.738780\n",
       "m_6   -0.989620\n",
       "Name: m_1, dtype: float64"
      ]
     },
     "execution_count": 32,
     "metadata": {},
     "output_type": "execute_result"
    }
   ],
   "source": [
    "similarity_coefficients.loc['m_1'].drop('m_1').sort_values(ascending=False).head(11)\n"
   ]
  },
  {
   "cell_type": "code",
   "execution_count": 35,
   "metadata": {},
   "outputs": [],
   "source": [
    "def get_similar_movies(target_movie, k=10):\n",
    "    '''Returns list of movies similar to target movie'''\n",
    "    \n",
    "    similar_movies = similarity_coefficients.loc[target_movie].drop(target_movie).sort_values(ascending=False)\n",
    "    \n",
    "    return similar_movies[similar_movies > 0].head(k)"
   ]
  },
  {
   "cell_type": "code",
   "execution_count": 41,
   "metadata": {},
   "outputs": [
    {
     "data": {
      "text/plain": [
       "m_3    0.715771\n",
       "m_2    0.624131\n",
       "Name: m_1, dtype: float64"
      ]
     },
     "execution_count": 41,
     "metadata": {},
     "output_type": "execute_result"
    }
   ],
   "source": [
    "get_similar_movies('m_1')"
   ]
  },
  {
   "cell_type": "code",
   "execution_count": 83,
   "metadata": {},
   "outputs": [],
   "source": [
    "def predict_rating(target_user, target_movie):\n",
    "    similar_movies = get_similar_movies(target_movie)\n",
    "    \n",
    "    similar_movies_that_were_rated_by_user = ratings.loc[target_user][similar_movies.index].dropna()\n",
    "    \n",
    "    numerator = 0\n",
    "    \n",
    "    for movie in similar_movies_that_were_rated_by_user.index:\n",
    "        # Similarity coefficient between this movie and target movie\n",
    "        movie_similarity = similarity_coefficients.loc[target_movie][movie]\n",
    "        \n",
    "        target_users_rating_of_current_movie = ratings.loc[target_user][movie]\n",
    "        \n",
    "        numerator += movie_similarity * target_users_rating_of_current_movie    \n",
    "    \n",
    "    # Sum of similarity coefficients between this movie and similar ones rated by target user\n",
    "    denominator = sum(similarity_coefficients.loc[target_movie][similar_movies_that_were_rated_by_user.index])\n",
    "\n",
    "    return numerator / denominator"
   ]
  },
  {
   "cell_type": "code",
   "execution_count": 114,
   "metadata": {},
   "outputs": [],
   "source": [
    "def predict_rating(target_user, target_movie):\n",
    "    '''Predicts rating of target user for target movie'''\n",
    "\n",
    "    # First, find the movies that are similar to target movie\n",
    "    similar_movies = get_similar_movies(target_movie, k = 100)\n",
    "    \n",
    "    # Out of those that are similar, leave only the ones that were rated by given user\n",
    "    similar_movies_that_were_rated_by_user = ratings.loc[target_user][similar_movies.index].dropna()\n",
    "    \n",
    "    # Similarity coefficients between the target movie and the movies that are similar to it\n",
    "    cosine_similarities = similarity_coefficients.loc[target_movie][similar_movies_that_were_rated_by_user.index]\n",
    "    \n",
    "    # Target users ratings of movies that are similar to target movie\n",
    "    ratings_for_similar_movies = ratings.loc[target_user][similar_movies_that_were_rated_by_user.index]\n",
    "    \n",
    "    # Calculate the numerator part of formula 2.15\n",
    "    # Basically, numerator is calculated by multiplying similarities coefficients and users rating for similar movies\n",
    "    # You can think of it as saying - multiply how similar the target movie is and how user rated the movie similar\n",
    "    # to it, and then sum up all those results\n",
    "    numerator = sum(cosine_similarities * ratings_for_similar_movies)\n",
    "    \n",
    "    # Denominator is just the sum of similarity coefficients\n",
    "    denominator = sum(cosine_similarities)\n",
    "\n",
    "    return numerator / denominator"
   ]
  },
  {
   "cell_type": "code",
   "execution_count": 75,
   "metadata": {},
   "outputs": [
    {
     "data": {
      "text/plain": [
       "m_3    0.715771\n",
       "m_2    0.624131\n",
       "Name: m_1, dtype: float64"
      ]
     },
     "execution_count": 75,
     "metadata": {},
     "output_type": "execute_result"
    }
   ],
   "source": [
    "similar_movies = get_similar_movies('m_1')\n",
    "similar_movies"
   ]
  },
  {
   "cell_type": "code",
   "execution_count": 76,
   "metadata": {},
   "outputs": [
    {
     "data": {
      "text/plain": [
       "m_1    NaN\n",
       "m_2    3.0\n",
       "m_3    3.0\n",
       "m_4    1.0\n",
       "m_5    1.0\n",
       "m_6    NaN\n",
       "Name: 3, dtype: float64"
      ]
     },
     "execution_count": 76,
     "metadata": {},
     "output_type": "execute_result"
    }
   ],
   "source": [
    "ratings.loc[3]"
   ]
  },
  {
   "cell_type": "code",
   "execution_count": 84,
   "metadata": {},
   "outputs": [
    {
     "data": {
      "text/plain": [
       "m_3    3.0\n",
       "m_2    3.0\n",
       "Name: 3, dtype: float64"
      ]
     },
     "execution_count": 84,
     "metadata": {},
     "output_type": "execute_result"
    }
   ],
   "source": [
    "similar_movies_that_were_rated_by_user = ratings.loc[3][similar_movies.index].dropna()\n",
    "similar_movies_that_were_rated_by_user"
   ]
  },
  {
   "cell_type": "code",
   "execution_count": 87,
   "metadata": {},
   "outputs": [
    {
     "data": {
      "text/plain": [
       "4.019706469108971"
      ]
     },
     "execution_count": 87,
     "metadata": {},
     "output_type": "execute_result"
    }
   ],
   "source": [
    "sum(similar_movies_that_were_rated_by_user * similarity_coefficients.loc['m_1'][similar_movies.index])"
   ]
  },
  {
   "cell_type": "code",
   "execution_count": 78,
   "metadata": {},
   "outputs": [],
   "source": [
    "target_movie = 'm_1'"
   ]
  },
  {
   "cell_type": "code",
   "execution_count": 79,
   "metadata": {},
   "outputs": [],
   "source": [
    "for movie in similar_movies_that_were_rated_by_user.index:\n",
    "    similarity_coefficients.loc[target_movie][movie]"
   ]
  },
  {
   "cell_type": "code",
   "execution_count": 80,
   "metadata": {},
   "outputs": [
    {
     "data": {
      "text/html": [
       "<div>\n",
       "<style scoped>\n",
       "    .dataframe tbody tr th:only-of-type {\n",
       "        vertical-align: middle;\n",
       "    }\n",
       "\n",
       "    .dataframe tbody tr th {\n",
       "        vertical-align: top;\n",
       "    }\n",
       "\n",
       "    .dataframe thead th {\n",
       "        text-align: right;\n",
       "    }\n",
       "</style>\n",
       "<table border=\"1\" class=\"dataframe\">\n",
       "  <thead>\n",
       "    <tr style=\"text-align: right;\">\n",
       "      <th></th>\n",
       "      <th>m_1</th>\n",
       "      <th>m_2</th>\n",
       "      <th>m_3</th>\n",
       "      <th>m_4</th>\n",
       "      <th>m_5</th>\n",
       "      <th>m_6</th>\n",
       "    </tr>\n",
       "    <tr>\n",
       "      <th>userId</th>\n",
       "      <th></th>\n",
       "      <th></th>\n",
       "      <th></th>\n",
       "      <th></th>\n",
       "      <th></th>\n",
       "      <th></th>\n",
       "    </tr>\n",
       "  </thead>\n",
       "  <tbody>\n",
       "    <tr>\n",
       "      <td>1</td>\n",
       "      <td>7.0</td>\n",
       "      <td>6.0</td>\n",
       "      <td>7.0</td>\n",
       "      <td>4</td>\n",
       "      <td>5</td>\n",
       "      <td>4.0</td>\n",
       "    </tr>\n",
       "    <tr>\n",
       "      <td>2</td>\n",
       "      <td>6.0</td>\n",
       "      <td>7.0</td>\n",
       "      <td>NaN</td>\n",
       "      <td>4</td>\n",
       "      <td>3</td>\n",
       "      <td>4.0</td>\n",
       "    </tr>\n",
       "    <tr>\n",
       "      <td>3</td>\n",
       "      <td>NaN</td>\n",
       "      <td>3.0</td>\n",
       "      <td>3.0</td>\n",
       "      <td>1</td>\n",
       "      <td>1</td>\n",
       "      <td>NaN</td>\n",
       "    </tr>\n",
       "    <tr>\n",
       "      <td>4</td>\n",
       "      <td>1.0</td>\n",
       "      <td>2.0</td>\n",
       "      <td>2.0</td>\n",
       "      <td>3</td>\n",
       "      <td>3</td>\n",
       "      <td>4.0</td>\n",
       "    </tr>\n",
       "    <tr>\n",
       "      <td>5</td>\n",
       "      <td>1.0</td>\n",
       "      <td>NaN</td>\n",
       "      <td>1.0</td>\n",
       "      <td>2</td>\n",
       "      <td>3</td>\n",
       "      <td>3.0</td>\n",
       "    </tr>\n",
       "  </tbody>\n",
       "</table>\n",
       "</div>"
      ],
      "text/plain": [
       "        m_1  m_2  m_3  m_4  m_5  m_6\n",
       "userId                              \n",
       "1       7.0  6.0  7.0    4    5  4.0\n",
       "2       6.0  7.0  NaN    4    3  4.0\n",
       "3       NaN  3.0  3.0    1    1  NaN\n",
       "4       1.0  2.0  2.0    3    3  4.0\n",
       "5       1.0  NaN  1.0    2    3  3.0"
      ]
     },
     "execution_count": 80,
     "metadata": {},
     "output_type": "execute_result"
    }
   ],
   "source": [
    "ratings"
   ]
  },
  {
   "cell_type": "code",
   "execution_count": 115,
   "metadata": {},
   "outputs": [
    {
     "data": {
      "text/plain": [
       "3.0000000000000004"
      ]
     },
     "execution_count": 115,
     "metadata": {},
     "output_type": "execute_result"
    }
   ],
   "source": [
    "predict_rating(3, 'm_3')"
   ]
  },
  {
   "cell_type": "code",
   "execution_count": 116,
   "metadata": {},
   "outputs": [
    {
     "data": {
      "text/plain": [
       "1.0"
      ]
     },
     "execution_count": 116,
     "metadata": {},
     "output_type": "execute_result"
    }
   ],
   "source": [
    "predict_rating(3, 'm_6')"
   ]
  },
  {
   "cell_type": "code",
   "execution_count": 95,
   "metadata": {},
   "outputs": [
    {
     "data": {
      "text/plain": [
       "m_3    0.715771\n",
       "m_2    0.624131\n",
       "Name: m_1, dtype: float64"
      ]
     },
     "execution_count": 95,
     "metadata": {},
     "output_type": "execute_result"
    }
   ],
   "source": [
    "similarity_coefficients.loc[target_movie][similar_movies_that_were_rated_by_user.index]"
   ]
  },
  {
   "cell_type": "code",
   "execution_count": 98,
   "metadata": {},
   "outputs": [
    {
     "data": {
      "text/plain": [
       "4.019706469108971"
      ]
     },
     "execution_count": 98,
     "metadata": {},
     "output_type": "execute_result"
    }
   ],
   "source": [
    "sum(ratings.loc[3][similar_movies_that_were_rated_by_user.index] * similarity_coefficients.loc[target_movie][similar_movies_that_were_rated_by_user.index])"
   ]
  },
  {
   "cell_type": "code",
   "execution_count": 99,
   "metadata": {},
   "outputs": [
    {
     "data": {
      "text/plain": [
       "1.3399021563696567"
      ]
     },
     "execution_count": 99,
     "metadata": {},
     "output_type": "execute_result"
    }
   ],
   "source": [
    "sum(similarity_coefficients.loc[target_movie][similar_movies_that_were_rated_by_user.index])"
   ]
  },
  {
   "cell_type": "code",
   "execution_count": 100,
   "metadata": {},
   "outputs": [
    {
     "data": {
      "text/plain": [
       "3.0000000000000004"
      ]
     },
     "execution_count": 100,
     "metadata": {},
     "output_type": "execute_result"
    }
   ],
   "source": [
    "4.019706469108971 / 1.3399021563696567"
   ]
  },
  {
   "cell_type": "code",
   "execution_count": null,
   "metadata": {},
   "outputs": [],
   "source": []
  }
 ],
 "metadata": {
  "kernelspec": {
   "display_name": "Python 3",
   "language": "python",
   "name": "python3"
  },
  "language_info": {
   "codemirror_mode": {
    "name": "ipython",
    "version": 3
   },
   "file_extension": ".py",
   "mimetype": "text/x-python",
   "name": "python",
   "nbconvert_exporter": "python",
   "pygments_lexer": "ipython3",
   "version": "3.7.3"
  }
 },
 "nbformat": 4,
 "nbformat_minor": 2
}
